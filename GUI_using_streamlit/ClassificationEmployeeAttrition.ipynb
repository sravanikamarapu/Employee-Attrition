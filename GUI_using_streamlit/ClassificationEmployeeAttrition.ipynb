{
  "cells": [
    {
      "cell_type": "markdown",
      "metadata": {
        "id": "It4szuiKlwNK"
      },
      "source": [
        "#Loading the Dataset"
      ]
    },
    {
      "cell_type": "code",
      "execution_count": 67,
      "metadata": {
        "colab": {
          "background_save": true
        },
        "id": "1vcMXPislfMf",
        "outputId": "d551e153-e472-427f-f61c-c512a71956f7"
      },
      "outputs": [],
      "source": [
        "#from google.colab import drive\n",
        "# drive.mount('/content/drive')"
      ]
    },
    {
      "cell_type": "code",
      "execution_count": 68,
      "metadata": {
        "colab": {
          "background_save": true
        },
        "id": "8pD211gUlmJM"
      },
      "outputs": [],
      "source": [
        "import pandas as pd\n",
        "import numpy as np\n",
        "import matplotlib.pyplot as plt \n"
      ]
    },
    {
      "cell_type": "code",
      "execution_count": 69,
      "metadata": {
        "colab": {
          "background_save": true
        },
        "id": "-dGMFo8jl988"
      },
      "outputs": [],
      "source": [
        "df = pd.read_csv(r'C:\\Users\\Vani\\OneDrive\\Desktop\\ML Project\\Copy of train.csv')"
      ]
    },
    {
      "cell_type": "markdown",
      "metadata": {
        "id": "EEZxBUmxl2_-"
      },
      "source": [
        "#EDA"
      ]
    },
    {
      "cell_type": "code",
      "execution_count": 70,
      "metadata": {
        "colab": {
          "background_save": true
        },
        "id": "-qpWCmIjlzxQ",
        "outputId": "be24c8b6-69a4-4ede-8adc-70c371277dfc"
      },
      "outputs": [
        {
          "data": {
            "text/plain": [
              "(1677, 35)"
            ]
          },
          "execution_count": 70,
          "metadata": {},
          "output_type": "execute_result"
        }
      ],
      "source": [
        "df.shape"
      ]
    },
    {
      "cell_type": "code",
      "execution_count": 71,
      "metadata": {
        "colab": {
          "background_save": true
        },
        "id": "MUCPk5OIrflp",
        "outputId": "b04c6b98-7d12-4310-c5c4-d20f634a698b"
      },
      "outputs": [
        {
          "data": {
            "text/html": [
              "<div>\n",
              "<style scoped>\n",
              "    .dataframe tbody tr th:only-of-type {\n",
              "        vertical-align: middle;\n",
              "    }\n",
              "\n",
              "    .dataframe tbody tr th {\n",
              "        vertical-align: top;\n",
              "    }\n",
              "\n",
              "    .dataframe thead th {\n",
              "        text-align: right;\n",
              "    }\n",
              "</style>\n",
              "<table border=\"1\" class=\"dataframe\">\n",
              "  <thead>\n",
              "    <tr style=\"text-align: right;\">\n",
              "      <th></th>\n",
              "      <th>id</th>\n",
              "      <th>Age</th>\n",
              "      <th>BusinessTravel</th>\n",
              "      <th>DailyRate</th>\n",
              "      <th>Department</th>\n",
              "      <th>DistanceFromHome</th>\n",
              "      <th>Education</th>\n",
              "      <th>EducationField</th>\n",
              "      <th>EmployeeCount</th>\n",
              "      <th>EnvironmentSatisfaction</th>\n",
              "      <th>...</th>\n",
              "      <th>StandardHours</th>\n",
              "      <th>StockOptionLevel</th>\n",
              "      <th>TotalWorkingYears</th>\n",
              "      <th>TrainingTimesLastYear</th>\n",
              "      <th>WorkLifeBalance</th>\n",
              "      <th>YearsAtCompany</th>\n",
              "      <th>YearsInCurrentRole</th>\n",
              "      <th>YearsSinceLastPromotion</th>\n",
              "      <th>YearsWithCurrManager</th>\n",
              "      <th>Attrition</th>\n",
              "    </tr>\n",
              "  </thead>\n",
              "  <tbody>\n",
              "    <tr>\n",
              "      <th>0</th>\n",
              "      <td>0</td>\n",
              "      <td>36</td>\n",
              "      <td>Travel_Frequently</td>\n",
              "      <td>599</td>\n",
              "      <td>Research &amp; Development</td>\n",
              "      <td>24</td>\n",
              "      <td>3</td>\n",
              "      <td>Medical</td>\n",
              "      <td>1</td>\n",
              "      <td>4</td>\n",
              "      <td>...</td>\n",
              "      <td>80</td>\n",
              "      <td>1</td>\n",
              "      <td>10</td>\n",
              "      <td>2</td>\n",
              "      <td>3</td>\n",
              "      <td>10</td>\n",
              "      <td>0</td>\n",
              "      <td>7</td>\n",
              "      <td>8</td>\n",
              "      <td>0</td>\n",
              "    </tr>\n",
              "    <tr>\n",
              "      <th>1</th>\n",
              "      <td>1</td>\n",
              "      <td>35</td>\n",
              "      <td>Travel_Rarely</td>\n",
              "      <td>921</td>\n",
              "      <td>Sales</td>\n",
              "      <td>8</td>\n",
              "      <td>3</td>\n",
              "      <td>Other</td>\n",
              "      <td>1</td>\n",
              "      <td>1</td>\n",
              "      <td>...</td>\n",
              "      <td>80</td>\n",
              "      <td>1</td>\n",
              "      <td>4</td>\n",
              "      <td>3</td>\n",
              "      <td>3</td>\n",
              "      <td>4</td>\n",
              "      <td>2</td>\n",
              "      <td>0</td>\n",
              "      <td>3</td>\n",
              "      <td>0</td>\n",
              "    </tr>\n",
              "    <tr>\n",
              "      <th>2</th>\n",
              "      <td>2</td>\n",
              "      <td>32</td>\n",
              "      <td>Travel_Rarely</td>\n",
              "      <td>718</td>\n",
              "      <td>Sales</td>\n",
              "      <td>26</td>\n",
              "      <td>3</td>\n",
              "      <td>Marketing</td>\n",
              "      <td>1</td>\n",
              "      <td>3</td>\n",
              "      <td>...</td>\n",
              "      <td>80</td>\n",
              "      <td>2</td>\n",
              "      <td>4</td>\n",
              "      <td>3</td>\n",
              "      <td>3</td>\n",
              "      <td>3</td>\n",
              "      <td>2</td>\n",
              "      <td>1</td>\n",
              "      <td>2</td>\n",
              "      <td>0</td>\n",
              "    </tr>\n",
              "    <tr>\n",
              "      <th>3</th>\n",
              "      <td>3</td>\n",
              "      <td>38</td>\n",
              "      <td>Travel_Rarely</td>\n",
              "      <td>1488</td>\n",
              "      <td>Research &amp; Development</td>\n",
              "      <td>2</td>\n",
              "      <td>3</td>\n",
              "      <td>Medical</td>\n",
              "      <td>1</td>\n",
              "      <td>3</td>\n",
              "      <td>...</td>\n",
              "      <td>80</td>\n",
              "      <td>0</td>\n",
              "      <td>15</td>\n",
              "      <td>1</td>\n",
              "      <td>1</td>\n",
              "      <td>6</td>\n",
              "      <td>0</td>\n",
              "      <td>0</td>\n",
              "      <td>2</td>\n",
              "      <td>0</td>\n",
              "    </tr>\n",
              "    <tr>\n",
              "      <th>4</th>\n",
              "      <td>4</td>\n",
              "      <td>50</td>\n",
              "      <td>Travel_Rarely</td>\n",
              "      <td>1017</td>\n",
              "      <td>Research &amp; Development</td>\n",
              "      <td>5</td>\n",
              "      <td>4</td>\n",
              "      <td>Medical</td>\n",
              "      <td>1</td>\n",
              "      <td>2</td>\n",
              "      <td>...</td>\n",
              "      <td>80</td>\n",
              "      <td>0</td>\n",
              "      <td>31</td>\n",
              "      <td>0</td>\n",
              "      <td>3</td>\n",
              "      <td>31</td>\n",
              "      <td>14</td>\n",
              "      <td>4</td>\n",
              "      <td>10</td>\n",
              "      <td>1</td>\n",
              "    </tr>\n",
              "  </tbody>\n",
              "</table>\n",
              "<p>5 rows × 35 columns</p>\n",
              "</div>"
            ],
            "text/plain": [
              "   id  Age     BusinessTravel  DailyRate              Department  \\\n",
              "0   0   36  Travel_Frequently        599  Research & Development   \n",
              "1   1   35      Travel_Rarely        921                   Sales   \n",
              "2   2   32      Travel_Rarely        718                   Sales   \n",
              "3   3   38      Travel_Rarely       1488  Research & Development   \n",
              "4   4   50      Travel_Rarely       1017  Research & Development   \n",
              "\n",
              "   DistanceFromHome  Education EducationField  EmployeeCount  \\\n",
              "0                24          3        Medical              1   \n",
              "1                 8          3          Other              1   \n",
              "2                26          3      Marketing              1   \n",
              "3                 2          3        Medical              1   \n",
              "4                 5          4        Medical              1   \n",
              "\n",
              "   EnvironmentSatisfaction  ... StandardHours  StockOptionLevel  \\\n",
              "0                        4  ...            80                 1   \n",
              "1                        1  ...            80                 1   \n",
              "2                        3  ...            80                 2   \n",
              "3                        3  ...            80                 0   \n",
              "4                        2  ...            80                 0   \n",
              "\n",
              "   TotalWorkingYears  TrainingTimesLastYear WorkLifeBalance  YearsAtCompany  \\\n",
              "0                 10                      2               3              10   \n",
              "1                  4                      3               3               4   \n",
              "2                  4                      3               3               3   \n",
              "3                 15                      1               1               6   \n",
              "4                 31                      0               3              31   \n",
              "\n",
              "  YearsInCurrentRole  YearsSinceLastPromotion  YearsWithCurrManager  Attrition  \n",
              "0                  0                        7                     8          0  \n",
              "1                  2                        0                     3          0  \n",
              "2                  2                        1                     2          0  \n",
              "3                  0                        0                     2          0  \n",
              "4                 14                        4                    10          1  \n",
              "\n",
              "[5 rows x 35 columns]"
            ]
          },
          "execution_count": 71,
          "metadata": {},
          "output_type": "execute_result"
        }
      ],
      "source": [
        "df.head()"
      ]
    },
    {
      "cell_type": "code",
      "execution_count": 72,
      "metadata": {
        "colab": {
          "background_save": true
        },
        "id": "cScil-clrke6",
        "outputId": "628553eb-07f5-437e-e1ed-2b13ef3f4959"
      },
      "outputs": [
        {
          "data": {
            "text/html": [
              "<div>\n",
              "<style scoped>\n",
              "    .dataframe tbody tr th:only-of-type {\n",
              "        vertical-align: middle;\n",
              "    }\n",
              "\n",
              "    .dataframe tbody tr th {\n",
              "        vertical-align: top;\n",
              "    }\n",
              "\n",
              "    .dataframe thead th {\n",
              "        text-align: right;\n",
              "    }\n",
              "</style>\n",
              "<table border=\"1\" class=\"dataframe\">\n",
              "  <thead>\n",
              "    <tr style=\"text-align: right;\">\n",
              "      <th></th>\n",
              "      <th>id</th>\n",
              "      <th>Age</th>\n",
              "      <th>BusinessTravel</th>\n",
              "      <th>DailyRate</th>\n",
              "      <th>Department</th>\n",
              "      <th>DistanceFromHome</th>\n",
              "      <th>Education</th>\n",
              "      <th>EducationField</th>\n",
              "      <th>EmployeeCount</th>\n",
              "      <th>EnvironmentSatisfaction</th>\n",
              "      <th>...</th>\n",
              "      <th>StandardHours</th>\n",
              "      <th>StockOptionLevel</th>\n",
              "      <th>TotalWorkingYears</th>\n",
              "      <th>TrainingTimesLastYear</th>\n",
              "      <th>WorkLifeBalance</th>\n",
              "      <th>YearsAtCompany</th>\n",
              "      <th>YearsInCurrentRole</th>\n",
              "      <th>YearsSinceLastPromotion</th>\n",
              "      <th>YearsWithCurrManager</th>\n",
              "      <th>Attrition</th>\n",
              "    </tr>\n",
              "  </thead>\n",
              "  <tbody>\n",
              "    <tr>\n",
              "      <th>0</th>\n",
              "      <td>0</td>\n",
              "      <td>36</td>\n",
              "      <td>Travel_Frequently</td>\n",
              "      <td>599</td>\n",
              "      <td>Research &amp; Development</td>\n",
              "      <td>24</td>\n",
              "      <td>3</td>\n",
              "      <td>Medical</td>\n",
              "      <td>1</td>\n",
              "      <td>4</td>\n",
              "      <td>...</td>\n",
              "      <td>80</td>\n",
              "      <td>1</td>\n",
              "      <td>10</td>\n",
              "      <td>2</td>\n",
              "      <td>3</td>\n",
              "      <td>10</td>\n",
              "      <td>0</td>\n",
              "      <td>7</td>\n",
              "      <td>8</td>\n",
              "      <td>0</td>\n",
              "    </tr>\n",
              "    <tr>\n",
              "      <th>1</th>\n",
              "      <td>1</td>\n",
              "      <td>35</td>\n",
              "      <td>Travel_Rarely</td>\n",
              "      <td>921</td>\n",
              "      <td>Sales</td>\n",
              "      <td>8</td>\n",
              "      <td>3</td>\n",
              "      <td>Other</td>\n",
              "      <td>1</td>\n",
              "      <td>1</td>\n",
              "      <td>...</td>\n",
              "      <td>80</td>\n",
              "      <td>1</td>\n",
              "      <td>4</td>\n",
              "      <td>3</td>\n",
              "      <td>3</td>\n",
              "      <td>4</td>\n",
              "      <td>2</td>\n",
              "      <td>0</td>\n",
              "      <td>3</td>\n",
              "      <td>0</td>\n",
              "    </tr>\n",
              "    <tr>\n",
              "      <th>2</th>\n",
              "      <td>2</td>\n",
              "      <td>32</td>\n",
              "      <td>Travel_Rarely</td>\n",
              "      <td>718</td>\n",
              "      <td>Sales</td>\n",
              "      <td>26</td>\n",
              "      <td>3</td>\n",
              "      <td>Marketing</td>\n",
              "      <td>1</td>\n",
              "      <td>3</td>\n",
              "      <td>...</td>\n",
              "      <td>80</td>\n",
              "      <td>2</td>\n",
              "      <td>4</td>\n",
              "      <td>3</td>\n",
              "      <td>3</td>\n",
              "      <td>3</td>\n",
              "      <td>2</td>\n",
              "      <td>1</td>\n",
              "      <td>2</td>\n",
              "      <td>0</td>\n",
              "    </tr>\n",
              "    <tr>\n",
              "      <th>3</th>\n",
              "      <td>3</td>\n",
              "      <td>38</td>\n",
              "      <td>Travel_Rarely</td>\n",
              "      <td>1488</td>\n",
              "      <td>Research &amp; Development</td>\n",
              "      <td>2</td>\n",
              "      <td>3</td>\n",
              "      <td>Medical</td>\n",
              "      <td>1</td>\n",
              "      <td>3</td>\n",
              "      <td>...</td>\n",
              "      <td>80</td>\n",
              "      <td>0</td>\n",
              "      <td>15</td>\n",
              "      <td>1</td>\n",
              "      <td>1</td>\n",
              "      <td>6</td>\n",
              "      <td>0</td>\n",
              "      <td>0</td>\n",
              "      <td>2</td>\n",
              "      <td>0</td>\n",
              "    </tr>\n",
              "    <tr>\n",
              "      <th>4</th>\n",
              "      <td>4</td>\n",
              "      <td>50</td>\n",
              "      <td>Travel_Rarely</td>\n",
              "      <td>1017</td>\n",
              "      <td>Research &amp; Development</td>\n",
              "      <td>5</td>\n",
              "      <td>4</td>\n",
              "      <td>Medical</td>\n",
              "      <td>1</td>\n",
              "      <td>2</td>\n",
              "      <td>...</td>\n",
              "      <td>80</td>\n",
              "      <td>0</td>\n",
              "      <td>31</td>\n",
              "      <td>0</td>\n",
              "      <td>3</td>\n",
              "      <td>31</td>\n",
              "      <td>14</td>\n",
              "      <td>4</td>\n",
              "      <td>10</td>\n",
              "      <td>1</td>\n",
              "    </tr>\n",
              "  </tbody>\n",
              "</table>\n",
              "<p>5 rows × 35 columns</p>\n",
              "</div>"
            ],
            "text/plain": [
              "   id  Age     BusinessTravel  DailyRate              Department  \\\n",
              "0   0   36  Travel_Frequently        599  Research & Development   \n",
              "1   1   35      Travel_Rarely        921                   Sales   \n",
              "2   2   32      Travel_Rarely        718                   Sales   \n",
              "3   3   38      Travel_Rarely       1488  Research & Development   \n",
              "4   4   50      Travel_Rarely       1017  Research & Development   \n",
              "\n",
              "   DistanceFromHome  Education EducationField  EmployeeCount  \\\n",
              "0                24          3        Medical              1   \n",
              "1                 8          3          Other              1   \n",
              "2                26          3      Marketing              1   \n",
              "3                 2          3        Medical              1   \n",
              "4                 5          4        Medical              1   \n",
              "\n",
              "   EnvironmentSatisfaction  ... StandardHours  StockOptionLevel  \\\n",
              "0                        4  ...            80                 1   \n",
              "1                        1  ...            80                 1   \n",
              "2                        3  ...            80                 2   \n",
              "3                        3  ...            80                 0   \n",
              "4                        2  ...            80                 0   \n",
              "\n",
              "   TotalWorkingYears  TrainingTimesLastYear WorkLifeBalance  YearsAtCompany  \\\n",
              "0                 10                      2               3              10   \n",
              "1                  4                      3               3               4   \n",
              "2                  4                      3               3               3   \n",
              "3                 15                      1               1               6   \n",
              "4                 31                      0               3              31   \n",
              "\n",
              "  YearsInCurrentRole  YearsSinceLastPromotion  YearsWithCurrManager  Attrition  \n",
              "0                  0                        7                     8          0  \n",
              "1                  2                        0                     3          0  \n",
              "2                  2                        1                     2          0  \n",
              "3                  0                        0                     2          0  \n",
              "4                 14                        4                    10          1  \n",
              "\n",
              "[5 rows x 35 columns]"
            ]
          },
          "execution_count": 72,
          "metadata": {},
          "output_type": "execute_result"
        }
      ],
      "source": [
        "df.head()"
      ]
    },
    {
      "cell_type": "code",
      "execution_count": 73,
      "metadata": {
        "colab": {
          "background_save": true
        },
        "id": "hOizIvmrrunS",
        "outputId": "b9b740f0-b029-4bbe-9b44-3c4e995d48ca"
      },
      "outputs": [
        {
          "data": {
            "text/plain": [
              "id                          0\n",
              "Age                         0\n",
              "BusinessTravel              0\n",
              "DailyRate                   0\n",
              "Department                  0\n",
              "DistanceFromHome            0\n",
              "Education                   0\n",
              "EducationField              0\n",
              "EmployeeCount               0\n",
              "EnvironmentSatisfaction     0\n",
              "Gender                      0\n",
              "HourlyRate                  0\n",
              "JobInvolvement              0\n",
              "JobLevel                    0\n",
              "JobRole                     0\n",
              "JobSatisfaction             0\n",
              "MaritalStatus               0\n",
              "MonthlyIncome               0\n",
              "MonthlyRate                 0\n",
              "NumCompaniesWorked          0\n",
              "Over18                      0\n",
              "OverTime                    0\n",
              "PercentSalaryHike           0\n",
              "PerformanceRating           0\n",
              "RelationshipSatisfaction    0\n",
              "StandardHours               0\n",
              "StockOptionLevel            0\n",
              "TotalWorkingYears           0\n",
              "TrainingTimesLastYear       0\n",
              "WorkLifeBalance             0\n",
              "YearsAtCompany              0\n",
              "YearsInCurrentRole          0\n",
              "YearsSinceLastPromotion     0\n",
              "YearsWithCurrManager        0\n",
              "Attrition                   0\n",
              "dtype: int64"
            ]
          },
          "execution_count": 73,
          "metadata": {},
          "output_type": "execute_result"
        }
      ],
      "source": [
        "df.isna().sum()"
      ]
    },
    {
      "cell_type": "code",
      "execution_count": 74,
      "metadata": {
        "colab": {
          "background_save": true
        },
        "id": "gyq_Z36nryIv",
        "outputId": "e4b5146d-1dcd-4ca7-b767-cf9e78423541"
      },
      "outputs": [
        {
          "data": {
            "text/plain": [
              "False"
            ]
          },
          "execution_count": 74,
          "metadata": {},
          "output_type": "execute_result"
        }
      ],
      "source": [
        "df.isnull().values.any()"
      ]
    },
    {
      "cell_type": "code",
      "execution_count": 75,
      "metadata": {
        "colab": {
          "background_save": true
        },
        "id": "iucgUdHNr2j4",
        "outputId": "bb7e283c-0499-45e4-bf7a-86f45c84d18e"
      },
      "outputs": [
        {
          "data": {
            "text/html": [
              "<div>\n",
              "<style scoped>\n",
              "    .dataframe tbody tr th:only-of-type {\n",
              "        vertical-align: middle;\n",
              "    }\n",
              "\n",
              "    .dataframe tbody tr th {\n",
              "        vertical-align: top;\n",
              "    }\n",
              "\n",
              "    .dataframe thead th {\n",
              "        text-align: right;\n",
              "    }\n",
              "</style>\n",
              "<table border=\"1\" class=\"dataframe\">\n",
              "  <thead>\n",
              "    <tr style=\"text-align: right;\">\n",
              "      <th></th>\n",
              "      <th>id</th>\n",
              "      <th>Age</th>\n",
              "      <th>DailyRate</th>\n",
              "      <th>DistanceFromHome</th>\n",
              "      <th>Education</th>\n",
              "      <th>EmployeeCount</th>\n",
              "      <th>EnvironmentSatisfaction</th>\n",
              "      <th>HourlyRate</th>\n",
              "      <th>JobInvolvement</th>\n",
              "      <th>JobLevel</th>\n",
              "      <th>...</th>\n",
              "      <th>StandardHours</th>\n",
              "      <th>StockOptionLevel</th>\n",
              "      <th>TotalWorkingYears</th>\n",
              "      <th>TrainingTimesLastYear</th>\n",
              "      <th>WorkLifeBalance</th>\n",
              "      <th>YearsAtCompany</th>\n",
              "      <th>YearsInCurrentRole</th>\n",
              "      <th>YearsSinceLastPromotion</th>\n",
              "      <th>YearsWithCurrManager</th>\n",
              "      <th>Attrition</th>\n",
              "    </tr>\n",
              "  </thead>\n",
              "  <tbody>\n",
              "    <tr>\n",
              "      <th>count</th>\n",
              "      <td>1677.000000</td>\n",
              "      <td>1677.000000</td>\n",
              "      <td>1677.000000</td>\n",
              "      <td>1677.000000</td>\n",
              "      <td>1677.000000</td>\n",
              "      <td>1677.0</td>\n",
              "      <td>1677.000000</td>\n",
              "      <td>1677.000000</td>\n",
              "      <td>1677.000000</td>\n",
              "      <td>1677.000000</td>\n",
              "      <td>...</td>\n",
              "      <td>1677.0</td>\n",
              "      <td>1677.000000</td>\n",
              "      <td>1677.000000</td>\n",
              "      <td>1677.000000</td>\n",
              "      <td>1677.000000</td>\n",
              "      <td>1677.000000</td>\n",
              "      <td>1677.000000</td>\n",
              "      <td>1677.000000</td>\n",
              "      <td>1677.000000</td>\n",
              "      <td>1677.000000</td>\n",
              "    </tr>\n",
              "    <tr>\n",
              "      <th>mean</th>\n",
              "      <td>838.000000</td>\n",
              "      <td>36.036971</td>\n",
              "      <td>892.749553</td>\n",
              "      <td>8.683959</td>\n",
              "      <td>2.937984</td>\n",
              "      <td>1.0</td>\n",
              "      <td>2.757901</td>\n",
              "      <td>67.798450</td>\n",
              "      <td>2.782349</td>\n",
              "      <td>1.998807</td>\n",
              "      <td>...</td>\n",
              "      <td>80.0</td>\n",
              "      <td>0.721527</td>\n",
              "      <td>10.709600</td>\n",
              "      <td>2.732856</td>\n",
              "      <td>2.769827</td>\n",
              "      <td>6.806798</td>\n",
              "      <td>4.144305</td>\n",
              "      <td>1.978533</td>\n",
              "      <td>4.186643</td>\n",
              "      <td>0.119261</td>\n",
              "    </tr>\n",
              "    <tr>\n",
              "      <th>std</th>\n",
              "      <td>484.252517</td>\n",
              "      <td>8.507112</td>\n",
              "      <td>374.496259</td>\n",
              "      <td>7.826143</td>\n",
              "      <td>1.039078</td>\n",
              "      <td>0.0</td>\n",
              "      <td>1.086835</td>\n",
              "      <td>19.435928</td>\n",
              "      <td>0.650664</td>\n",
              "      <td>1.083065</td>\n",
              "      <td>...</td>\n",
              "      <td>0.0</td>\n",
              "      <td>0.771259</td>\n",
              "      <td>7.255135</td>\n",
              "      <td>1.145271</td>\n",
              "      <td>0.647721</td>\n",
              "      <td>5.883282</td>\n",
              "      <td>3.583398</td>\n",
              "      <td>3.045716</td>\n",
              "      <td>3.576189</td>\n",
              "      <td>0.324192</td>\n",
              "    </tr>\n",
              "    <tr>\n",
              "      <th>min</th>\n",
              "      <td>0.000000</td>\n",
              "      <td>18.000000</td>\n",
              "      <td>107.000000</td>\n",
              "      <td>1.000000</td>\n",
              "      <td>1.000000</td>\n",
              "      <td>1.0</td>\n",
              "      <td>1.000000</td>\n",
              "      <td>30.000000</td>\n",
              "      <td>1.000000</td>\n",
              "      <td>1.000000</td>\n",
              "      <td>...</td>\n",
              "      <td>80.0</td>\n",
              "      <td>0.000000</td>\n",
              "      <td>0.000000</td>\n",
              "      <td>0.000000</td>\n",
              "      <td>1.000000</td>\n",
              "      <td>0.000000</td>\n",
              "      <td>0.000000</td>\n",
              "      <td>0.000000</td>\n",
              "      <td>0.000000</td>\n",
              "      <td>0.000000</td>\n",
              "    </tr>\n",
              "    <tr>\n",
              "      <th>25%</th>\n",
              "      <td>419.000000</td>\n",
              "      <td>30.000000</td>\n",
              "      <td>589.000000</td>\n",
              "      <td>2.000000</td>\n",
              "      <td>2.000000</td>\n",
              "      <td>1.0</td>\n",
              "      <td>2.000000</td>\n",
              "      <td>51.000000</td>\n",
              "      <td>2.000000</td>\n",
              "      <td>1.000000</td>\n",
              "      <td>...</td>\n",
              "      <td>80.0</td>\n",
              "      <td>0.000000</td>\n",
              "      <td>6.000000</td>\n",
              "      <td>2.000000</td>\n",
              "      <td>2.000000</td>\n",
              "      <td>3.000000</td>\n",
              "      <td>2.000000</td>\n",
              "      <td>0.000000</td>\n",
              "      <td>2.000000</td>\n",
              "      <td>0.000000</td>\n",
              "    </tr>\n",
              "    <tr>\n",
              "      <th>50%</th>\n",
              "      <td>838.000000</td>\n",
              "      <td>35.000000</td>\n",
              "      <td>890.000000</td>\n",
              "      <td>7.000000</td>\n",
              "      <td>3.000000</td>\n",
              "      <td>1.0</td>\n",
              "      <td>3.000000</td>\n",
              "      <td>69.000000</td>\n",
              "      <td>3.000000</td>\n",
              "      <td>2.000000</td>\n",
              "      <td>...</td>\n",
              "      <td>80.0</td>\n",
              "      <td>1.000000</td>\n",
              "      <td>9.000000</td>\n",
              "      <td>3.000000</td>\n",
              "      <td>3.000000</td>\n",
              "      <td>5.000000</td>\n",
              "      <td>3.000000</td>\n",
              "      <td>1.000000</td>\n",
              "      <td>3.000000</td>\n",
              "      <td>0.000000</td>\n",
              "    </tr>\n",
              "    <tr>\n",
              "      <th>75%</th>\n",
              "      <td>1257.000000</td>\n",
              "      <td>41.000000</td>\n",
              "      <td>1223.000000</td>\n",
              "      <td>12.000000</td>\n",
              "      <td>4.000000</td>\n",
              "      <td>1.0</td>\n",
              "      <td>4.000000</td>\n",
              "      <td>84.000000</td>\n",
              "      <td>3.000000</td>\n",
              "      <td>2.000000</td>\n",
              "      <td>...</td>\n",
              "      <td>80.0</td>\n",
              "      <td>1.000000</td>\n",
              "      <td>14.000000</td>\n",
              "      <td>3.000000</td>\n",
              "      <td>3.000000</td>\n",
              "      <td>9.000000</td>\n",
              "      <td>7.000000</td>\n",
              "      <td>2.000000</td>\n",
              "      <td>7.000000</td>\n",
              "      <td>0.000000</td>\n",
              "    </tr>\n",
              "    <tr>\n",
              "      <th>max</th>\n",
              "      <td>1676.000000</td>\n",
              "      <td>60.000000</td>\n",
              "      <td>3921.000000</td>\n",
              "      <td>29.000000</td>\n",
              "      <td>15.000000</td>\n",
              "      <td>1.0</td>\n",
              "      <td>4.000000</td>\n",
              "      <td>100.000000</td>\n",
              "      <td>4.000000</td>\n",
              "      <td>7.000000</td>\n",
              "      <td>...</td>\n",
              "      <td>80.0</td>\n",
              "      <td>3.000000</td>\n",
              "      <td>41.000000</td>\n",
              "      <td>6.000000</td>\n",
              "      <td>4.000000</td>\n",
              "      <td>41.000000</td>\n",
              "      <td>18.000000</td>\n",
              "      <td>15.000000</td>\n",
              "      <td>17.000000</td>\n",
              "      <td>1.000000</td>\n",
              "    </tr>\n",
              "  </tbody>\n",
              "</table>\n",
              "<p>8 rows × 27 columns</p>\n",
              "</div>"
            ],
            "text/plain": [
              "                id          Age    DailyRate  DistanceFromHome    Education  \\\n",
              "count  1677.000000  1677.000000  1677.000000       1677.000000  1677.000000   \n",
              "mean    838.000000    36.036971   892.749553          8.683959     2.937984   \n",
              "std     484.252517     8.507112   374.496259          7.826143     1.039078   \n",
              "min       0.000000    18.000000   107.000000          1.000000     1.000000   \n",
              "25%     419.000000    30.000000   589.000000          2.000000     2.000000   \n",
              "50%     838.000000    35.000000   890.000000          7.000000     3.000000   \n",
              "75%    1257.000000    41.000000  1223.000000         12.000000     4.000000   \n",
              "max    1676.000000    60.000000  3921.000000         29.000000    15.000000   \n",
              "\n",
              "       EmployeeCount  EnvironmentSatisfaction   HourlyRate  JobInvolvement  \\\n",
              "count         1677.0              1677.000000  1677.000000     1677.000000   \n",
              "mean             1.0                 2.757901    67.798450        2.782349   \n",
              "std              0.0                 1.086835    19.435928        0.650664   \n",
              "min              1.0                 1.000000    30.000000        1.000000   \n",
              "25%              1.0                 2.000000    51.000000        2.000000   \n",
              "50%              1.0                 3.000000    69.000000        3.000000   \n",
              "75%              1.0                 4.000000    84.000000        3.000000   \n",
              "max              1.0                 4.000000   100.000000        4.000000   \n",
              "\n",
              "          JobLevel  ...  StandardHours  StockOptionLevel  TotalWorkingYears  \\\n",
              "count  1677.000000  ...         1677.0       1677.000000        1677.000000   \n",
              "mean      1.998807  ...           80.0          0.721527          10.709600   \n",
              "std       1.083065  ...            0.0          0.771259           7.255135   \n",
              "min       1.000000  ...           80.0          0.000000           0.000000   \n",
              "25%       1.000000  ...           80.0          0.000000           6.000000   \n",
              "50%       2.000000  ...           80.0          1.000000           9.000000   \n",
              "75%       2.000000  ...           80.0          1.000000          14.000000   \n",
              "max       7.000000  ...           80.0          3.000000          41.000000   \n",
              "\n",
              "       TrainingTimesLastYear  WorkLifeBalance  YearsAtCompany  \\\n",
              "count            1677.000000      1677.000000     1677.000000   \n",
              "mean                2.732856         2.769827        6.806798   \n",
              "std                 1.145271         0.647721        5.883282   \n",
              "min                 0.000000         1.000000        0.000000   \n",
              "25%                 2.000000         2.000000        3.000000   \n",
              "50%                 3.000000         3.000000        5.000000   \n",
              "75%                 3.000000         3.000000        9.000000   \n",
              "max                 6.000000         4.000000       41.000000   \n",
              "\n",
              "       YearsInCurrentRole  YearsSinceLastPromotion  YearsWithCurrManager  \\\n",
              "count         1677.000000              1677.000000           1677.000000   \n",
              "mean             4.144305                 1.978533              4.186643   \n",
              "std              3.583398                 3.045716              3.576189   \n",
              "min              0.000000                 0.000000              0.000000   \n",
              "25%              2.000000                 0.000000              2.000000   \n",
              "50%              3.000000                 1.000000              3.000000   \n",
              "75%              7.000000                 2.000000              7.000000   \n",
              "max             18.000000                15.000000             17.000000   \n",
              "\n",
              "         Attrition  \n",
              "count  1677.000000  \n",
              "mean      0.119261  \n",
              "std       0.324192  \n",
              "min       0.000000  \n",
              "25%       0.000000  \n",
              "50%       0.000000  \n",
              "75%       0.000000  \n",
              "max       1.000000  \n",
              "\n",
              "[8 rows x 27 columns]"
            ]
          },
          "execution_count": 75,
          "metadata": {},
          "output_type": "execute_result"
        }
      ],
      "source": [
        "df.describe()"
      ]
    },
    {
      "cell_type": "markdown",
      "metadata": {
        "id": "9feeun4CxWXL"
      },
      "source": [
        "#Data Visualization"
      ]
    },
    {
      "cell_type": "code",
      "execution_count": 76,
      "metadata": {
        "colab": {
          "background_save": true
        },
        "id": "b38-NvZixjDE"
      },
      "outputs": [],
      "source": [
        "import seaborn as sns"
      ]
    },
    {
      "cell_type": "code",
      "execution_count": 77,
      "metadata": {
        "colab": {
          "background_save": true
        },
        "id": "G3QuskagxVWc",
        "outputId": "f3ba9a5a-ccbc-46d6-c42b-ac852bb770f0"
      },
      "outputs": [
        {
          "data": {
            "image/png": "[encoded data removed]",
            "text/plain": [
              "<Figure size 864x3240 with 36 Axes>"
            ]
          },
          "metadata": {
            "needs_background": "light"
          },
          "output_type": "display_data"
        }
      ],
      "source": [
        "ncols = 2\n",
        "nrows = np.ceil(len(df.columns)/ncols).astype(int)\n",
        "fig, axs = plt.subplots(ncols=ncols, nrows=nrows, figsize=(12,nrows*2.5))\n",
        "for c, ax in zip(df.columns, axs.flatten()):\n",
        "    sns.histplot(df, x=c, ax=ax)\n",
        "fig.suptitle('Distribution of data', fontsize=20)\n",
        "plt.tight_layout(rect=[0, 0, 1, 0.98])"
      ]
    },
    {
      "cell_type": "code",
      "execution_count": 78,
      "metadata": {
        "colab": {
          "background_save": true
        },
        "id": "St7gnn5vxVTI",
        "outputId": "cd5754b6-f23b-41cd-cd33-bae3db277780"
      },
      "outputs": [
        {
          "data": {
            "text/plain": [
              "<Axes: >"
            ]
          },
          "execution_count": 78,
          "metadata": {},
          "output_type": "execute_result"
        },
        {
          "data": {
            "image/png": "[encoded data removed]",
            "text/plain": [
              "<Figure size 1080x1080 with 2 Axes>"
            ]
          },
          "metadata": {
            "needs_background": "light"
          },
          "output_type": "display_data"
        }
      ],
      "source": [
        "col = df.corr().nlargest(20, \"Attrition\").Attrition.index\n",
        "plt.figure(figsize=(15, 15))\n",
        "sns.heatmap(df[col].corr(), annot=True, cmap=\"RdYlGn\", annot_kws={\"size\":10})"
      ]
    },
    {
      "cell_type": "markdown",
      "metadata": {
        "id": "IDan27e60Evb"
      },
      "source": [
        "Analysis of Heat map"
      ]
    },
    {
      "cell_type": "code",
      "execution_count": 79,
      "metadata": {
        "colab": {
          "background_save": true
        },
        "id": "1sl_gcvLr6GX",
        "outputId": "7b9a3283-c8f9-4559-e28a-ae4a21e68845"
      },
      "outputs": [
        {
          "data": {
            "text/plain": [
              "0    1477\n",
              "1     200\n",
              "Name: Attrition, dtype: int64"
            ]
          },
          "execution_count": 79,
          "metadata": {},
          "output_type": "execute_result"
        }
      ],
      "source": [
        "df['Attrition'].value_counts()"
      ]
    },
    {
      "cell_type": "code",
      "execution_count": 80,
      "metadata": {
        "colab": {
          "background_save": true
        },
        "id": "uOI_HdiBr9yr",
        "outputId": "6fae0a10-17f8-4bbb-9ef9-72028af6d850"
      },
      "outputs": [
        {
          "name": "stdout",
          "output_type": "stream",
          "text": [
            "Index(['id', 'Age', 'BusinessTravel', 'DailyRate', 'Department',\n",
            "       'DistanceFromHome', 'Education', 'EducationField', 'EmployeeCount',\n",
            "       'EnvironmentSatisfaction', 'Gender', 'HourlyRate', 'JobInvolvement',\n",
            "       'JobLevel', 'JobRole', 'JobSatisfaction', 'MaritalStatus',\n",
            "       'MonthlyIncome', 'MonthlyRate', 'NumCompaniesWorked', 'Over18',\n",
            "       'OverTime', 'PercentSalaryHike', 'PerformanceRating',\n",
            "       'RelationshipSatisfaction', 'StandardHours', 'StockOptionLevel',\n",
            "       'TotalWorkingYears', 'TrainingTimesLastYear', 'WorkLifeBalance',\n",
            "       'YearsAtCompany', 'YearsInCurrentRole', 'YearsSinceLastPromotion',\n",
            "       'YearsWithCurrManager', 'Attrition'],\n",
            "      dtype='object')\n"
          ]
        }
      ],
      "source": [
        "print(df.columns)"
      ]
    },
    {
      "cell_type": "code",
      "execution_count": 81,
      "metadata": {
        "colab": {
          "background_save": true
        },
        "id": "AptLG-RNsAjf",
        "outputId": "fc5162d9-968f-491b-d7d6-18cf69fd5dc6"
      },
      "outputs": [
        {
          "name": "stdout",
          "output_type": "stream",
          "text": [
            "\n",
            "\n",
            "\n",
            "\n",
            "BusinessTravel : ['Travel_Frequently' 'Travel_Rarely' 'Non-Travel']\n",
            "Travel_Rarely        1290\n",
            "Travel_Frequently     261\n",
            "Non-Travel            126\n",
            "Name: BusinessTravel, dtype: int64\n",
            "\n",
            "\n",
            "\n",
            "\n",
            "Department : ['Research & Development' 'Sales' 'Human Resources']\n",
            "Research & Development    1167\n",
            "Sales                      471\n",
            "Human Resources             39\n",
            "Name: Department, dtype: int64\n",
            "\n",
            "\n",
            "\n",
            "\n",
            "\n",
            "\n",
            "EducationField : ['Medical' 'Other' 'Marketing' 'Life Sciences' 'Technical Degree'\n",
            " 'Human Resources']\n",
            "Life Sciences       775\n",
            "Medical             549\n",
            "Marketing           152\n",
            "Technical Degree    106\n",
            "Other                82\n",
            "Human Resources      13\n",
            "Name: EducationField, dtype: int64\n",
            "\n",
            "\n",
            "\n",
            "\n",
            "\n",
            "\n",
            "Gender : ['Male' 'Female']\n",
            "Male      1064\n",
            "Female     613\n",
            "Name: Gender, dtype: int64\n",
            "\n",
            "\n",
            "\n",
            "\n",
            "\n",
            "\n",
            "\n",
            "\n",
            "JobRole : ['Laboratory Technician' 'Sales Representative' 'Sales Executive'\n",
            " 'Healthcare Representative' 'Manager' 'Manufacturing Director'\n",
            " 'Research Scientist' 'Human Resources' 'Research Director']\n",
            "Sales Executive              355\n",
            "Research Scientist           344\n",
            "Laboratory Technician        334\n",
            "Manufacturing Director       196\n",
            "Healthcare Representative    155\n",
            "Manager                      111\n",
            "Sales Representative          77\n",
            "Research Director             71\n",
            "Human Resources               34\n",
            "Name: JobRole, dtype: int64\n",
            "\n",
            "\n",
            "\n",
            "\n",
            "MaritalStatus : ['Married' 'Divorced' 'Single']\n",
            "Married     773\n",
            "Single      577\n",
            "Divorced    327\n",
            "Name: MaritalStatus, dtype: int64\n",
            "\n",
            "\n",
            "\n",
            "\n",
            "\n",
            "\n",
            "\n",
            "\n",
            "Over18 : ['Y']\n",
            "Y    1677\n",
            "Name: Over18, dtype: int64\n",
            "\n",
            "\n",
            "OverTime : ['Yes' 'No']\n",
            "No     1277\n",
            "Yes     400\n",
            "Name: OverTime, dtype: int64\n",
            "\n",
            "\n",
            "\n",
            "\n",
            "\n",
            "\n",
            "\n",
            "\n",
            "\n",
            "\n",
            "\n",
            "\n",
            "\n",
            "\n",
            "\n",
            "\n",
            "\n",
            "\n",
            "\n",
            "\n",
            "\n",
            "\n",
            "\n",
            "\n",
            "\n",
            "\n",
            "\n",
            "\n"
          ]
        }
      ],
      "source": [
        "for column in df.columns:\n",
        "    if df[column].dtype == object:\n",
        "        print(str(column) + ' : ' + str(df[column].unique()))\n",
        "        print(df[column].value_counts())\n",
        "    \n",
        "    print(\"\\n\")"
      ]
    },
    {
      "cell_type": "code",
      "execution_count": 82,
      "metadata": {
        "colab": {
          "background_save": true
        },
        "id": "5b9iVF8ysECF",
        "outputId": "46c54a4a-7d53-4666-d54f-17390da5a3e9"
      },
      "outputs": [
        {
          "name": "stdout",
          "output_type": "stream",
          "text": [
            "id : [   0    1    2 ... 1674 1675 1676]\n",
            "0       1\n",
            "1153    1\n",
            "1125    1\n",
            "1124    1\n",
            "1123    1\n",
            "       ..\n",
            "556     1\n",
            "555     1\n",
            "554     1\n",
            "553     1\n",
            "1676    1\n",
            "Name: id, Length: 1677, dtype: int64\n",
            "\n",
            "\n",
            "Age : [36 35 32 38 50 27 34 40 51 25 29 48 26 39 33 52 42 30 43 24 41 47 31 56\n",
            " 44 28 46 18 45 37 49 53 54 23 59 22 55 20 57 19 21 58 60]\n",
            "36    101\n",
            "29     96\n",
            "34     95\n",
            "31     90\n",
            "35     89\n",
            "38     88\n",
            "40     79\n",
            "27     67\n",
            "30     66\n",
            "28     62\n",
            "32     60\n",
            "37     58\n",
            "39     54\n",
            "33     50\n",
            "46     47\n",
            "26     45\n",
            "45     41\n",
            "41     40\n",
            "44     39\n",
            "42     36\n",
            "25     36\n",
            "43     29\n",
            "50     29\n",
            "48     28\n",
            "24     23\n",
            "47     22\n",
            "23     20\n",
            "49     19\n",
            "52     18\n",
            "55     17\n",
            "21     16\n",
            "53     15\n",
            "51     14\n",
            "22     14\n",
            "19     13\n",
            "18     12\n",
            "56     10\n",
            "59     10\n",
            "58      9\n",
            "54      7\n",
            "20      6\n",
            "57      4\n",
            "60      3\n",
            "Name: Age, dtype: int64\n",
            "\n",
            "\n",
            "\n",
            "\n",
            "DailyRate : [ 599  921  718 1488 1017  566  944 1009 1297  806  885  694  138 1287\n",
            "  884  640  894  607 1495 1092 1392 1082 1107  530  746 1005  796  228\n",
            " 1358  959 1276 1349  154 1277  979  300  555  874 1443  933  833 1001\n",
            "  469 1217  301  119 1469  994  932  809 1179 1434  869 1198 1427 1383\n",
            "  528  548 1097 1413  322  319 1401  477  999 1223  769 1339  523 1003\n",
            " 1018  672 1099 1396  465 1333  604 1206 1313 1275  653 1219 1336  144\n",
            " 1137 1063 1403  942  723  571  442 1303 1450  857  807  682  790 1332\n",
            " 1168  598 1142  920  691  882  895  464  658  954  715  853 1136 1283\n",
            " 1448  804  546  775 1319 1146  359  383  821 1323  543 1288 1479  350\n",
            "  603  835  489  750  462  426  688  466 1311 1377  991  713 1211  304\n",
            " 1362  783  575  641  689 1302  136  602  207  632  652  887 1308  852\n",
            "  832 1371  326  549  192  329 1416  829  561 1169  735  622  990 1389\n",
            " 1435  468 1145  636  662  956  147 1237  791  335 1456  397 1054 1329\n",
            "  574  116 1180  370  252  918 1232  573  654 1064 1157  243 1445 1370\n",
            "  969 1040 1125 1346 1429  638  534 1089  855  360  862  699  708 1199\n",
            " 1193 1476  706 1485 1372 1402  798  117 1320 1210 1325 1115  945 1256\n",
            "  436 1463 1395 1189 1178  697  890  845 1224 1245  989  661  703 1002\n",
            "  977  721  590 1404  629 1324  325 1084  572 1467 1255  741 1498 1242\n",
            " 1184  722  827 1050  155 1091  267 1441  130  505 1411 1278  506 1299\n",
            "  996 1499  611  810  438  346 1147 1328  836  667  448 1085  218  458\n",
            "  583 1373  157  217  786  495  727  394  591 1316  552 1489  240 1490\n",
            "  342 1246  617 1291  427 1218  964 1109 1475  916  763  390 1334  461\n",
            "  586  955  906 1294  663 1356  781  625 1300 1202  848  334  648 1312\n",
            "  861  430  634 1229  444  589 1375  736 1035  185 1261 1220  395 1131\n",
            "  623 1226  594  970  557  200 1112  563  581  193  645  374  670  265\n",
            "  408  605  818  478  984 1225 1265  501  793 1075  740 1243 1480  310\n",
            " 1116  482 1387 1153  756 1398  562 1457 1204 1380 1318  805  443 1366\n",
            "  881  903  660  995  928  949  601  337 1369  896  930 1360  303 1378\n",
            "  428 1111 1252  498 1194  726  678 1391  797  216  177 1354 1452 1327\n",
            "  966 1382 1234  983 1462  201 1258  302  950 1127  472  141  447  891\n",
            "  849  352 1355 1117  621  559  878  630 1096 1330  628  828 1381  946\n",
            "  289 1351  570  587  734 1418  532 1343  526  792 1162  898  181 1195\n",
            "  889 1254  772  684  664  508  943  414  538  771  556  288  938  593\n",
            " 1120 1322  976  234 1052 1250 1164  170  492  665  446 1134  269  279\n",
            "  913  287  419  208 1222  488  490  115  441  917  454  929 1423  981\n",
            "  922 1400 1337  515  911  823  600 1176  459  118  704 1098  971 1102\n",
            "  542  813 1015  164  440 1076 1181  479  365 1167 1186 1239  541  924\n",
            " 1266  474 1397  655 1451 1309  439 1376  817  107  317  511  504 1421\n",
            "  669  742  635  676  584  719  364 1326 1138  923  135  683 1474  509\n",
            " 1282  496 1405  618 1449  410  975  616  867  535 1436  728  124  693\n",
            "  471  647 1271  819 1034 1216 1126  182 1244  422  333 1425  802 1385\n",
            " 1093  433  268 1213  373  470  527 1158  725  685 1440  674 1088 3921\n",
            " 1470  953 1062  381 1182  988  202 1212  982  363 1431  544  799 1274\n",
            " 1055 1251 1482 1038  986 1123  111 1492  967  841  330 1473 1128  868\n",
            "  507 1151 1059  776 1174 1129  941  992 1141]\n",
            "1082    16\n",
            "775     12\n",
            "465     11\n",
            "855     11\n",
            "1329    10\n",
            "        ..\n",
            "1452     1\n",
            "1327     1\n",
            "1382     1\n",
            "302      1\n",
            "1141     1\n",
            "Name: DailyRate, Length: 625, dtype: int64\n",
            "\n",
            "\n",
            "\n",
            "\n",
            "DistanceFromHome : [24  8 26  2  5 10  6  9 28  1 25 11  7 18  3 17 14  4 16 15 23 20 12 29\n",
            " 19 22 13 27 21]\n",
            "2     278\n",
            "1     237\n",
            "8     104\n",
            "9     101\n",
            "10     99\n",
            "3      95\n",
            "7      91\n",
            "6      78\n",
            "5      74\n",
            "4      64\n",
            "16     32\n",
            "11     32\n",
            "15     30\n",
            "18     30\n",
            "24     28\n",
            "29     27\n",
            "19     27\n",
            "17     26\n",
            "25     26\n",
            "28     26\n",
            "20     25\n",
            "26     24\n",
            "23     24\n",
            "14     22\n",
            "12     18\n",
            "21     18\n",
            "22     16\n",
            "13     16\n",
            "27      9\n",
            "Name: DistanceFromHome, dtype: int64\n",
            "\n",
            "\n",
            "Education : [ 3  4  1  2  5 15]\n",
            "3     682\n",
            "4     464\n",
            "2     304\n",
            "1     182\n",
            "5      44\n",
            "15      1\n",
            "Name: Education, dtype: int64\n",
            "\n",
            "\n",
            "\n",
            "\n",
            "EmployeeCount : [1]\n",
            "1    1677\n",
            "Name: EmployeeCount, dtype: int64\n",
            "\n",
            "\n",
            "EnvironmentSatisfaction : [4 1 3 2]\n",
            "4    537\n",
            "3    496\n",
            "2    345\n",
            "1    299\n",
            "Name: EnvironmentSatisfaction, dtype: int64\n",
            "\n",
            "\n",
            "\n",
            "\n",
            "HourlyRate : [ 42  46  80  40  37  56  36  74  43  82  68  65  95  81  62  83  87  96\n",
            "  77  60  59  51  86  76  75  54  73  48  52  71  78  79  70  72 100  93\n",
            "  90  64  97  84  38  33  53  58  98  89  92  50  66  30  61  91  44  63\n",
            "  32  39  88  45  41  69  99  49  57  35  31  94  85  55  47  67  34]\n",
            "42    41\n",
            "84    41\n",
            "96    39\n",
            "66    39\n",
            "78    39\n",
            "      ..\n",
            "47     7\n",
            "53     7\n",
            "34     6\n",
            "31     5\n",
            "38     5\n",
            "Name: HourlyRate, Length: 71, dtype: int64\n",
            "\n",
            "\n",
            "JobInvolvement : [3 1 2 4]\n",
            "3    1107\n",
            "2     358\n",
            "4     139\n",
            "1      73\n",
            "Name: JobInvolvement, dtype: int64\n",
            "\n",
            "\n",
            "JobLevel : [1 2 5 3 4 7]\n",
            "1    655\n",
            "2    617\n",
            "3    235\n",
            "4     94\n",
            "5     75\n",
            "7      1\n",
            "Name: JobLevel, dtype: int64\n",
            "\n",
            "\n",
            "\n",
            "\n",
            "JobSatisfaction : [4 1 2 3]\n",
            "4    561\n",
            "3    516\n",
            "1    310\n",
            "2    290\n",
            "Name: JobSatisfaction, dtype: int64\n",
            "\n",
            "\n",
            "\n",
            "\n",
            "MonthlyIncome : [ 2596  2899  4627  5347 19033  4197  1281  3067  6439  2741  2691  8628\n",
            "  3280  2387  3102  4449  2539  7441 17169  4374  2413  2436 19943  3312\n",
            "  4373  4834 16015  5296  2389  9396  6142  4490  5228  5562  5745  3780\n",
            "  9985  6949  2398 12965  2018  2853  2795  5744 10932 12169  1611  9714\n",
            "  2836  4787  8321  3057  2132  2468  3441  4724  2683  2379  2544  2362\n",
            " 13194  5605 19161  2496 19436  5507  4422 10725  6162  3875  4448 17099\n",
            " 19626 19513  5346  7637 13348  6220  2564  5309  2559  3989  2585  6384\n",
            "  5253  4171  2693  1232  3944 19202 16064  1569  2514 17856  6540 10673\n",
            "  5163  2942  4301  6146  9278  2782  2013  5906  2519 16659  3072 10502\n",
            "  5813  3838  3491 17046 18041  7412  5324  2394 10169  6434  6377  9713\n",
            "  6883  8726  2500  6755 18711  8998  2835 11836  6652  2176 13582  5151\n",
            " 13964  7847  2335  2174  3162  6694  5373  6334  4647  2235  2515  5257\n",
            "  2973  6397  3419  5207  5377  3180  3375  2684  6811  2936  4668  4240\n",
            "  5396  4404  2911 19038 18606  5470  2934  7143  6674  5980  5488  5410\n",
            "  2127 13116  4319  6389  2141  5689  2096  3294  5209  4777  5204 10854\n",
            " 17328  2220  2366 16792  5249  2351  2121 10648 11713  3408  2404  5593\n",
            "  7870  2718  6538  7969 13734  5237  7880  3452 10903  5902  2226  4774\n",
            "  2546  2008  3617  6272 16184 10435  4968  1274 16856  7632  4998 19847\n",
            "  5468  8722  2800  2285  5070  7446 13664  3229  3646  3761  2821  4736\n",
            "  4272  1675  8620  2014  4377  9852  1514  5538  6586  2086  2180  6118\n",
            " 10512  6179  9204  2089 19859  2380  6877  5714  4999  6201  3579  6673\n",
            "  7553  3904  2996 10388  6120  2819  2686 11994 13464  5231 13695 11631\n",
            "  3669  2372  7547  7104  3633  2760  2432  3722 10453  5768 10527  6524\n",
            "  4244  5454  2592  2450  4577  3920  2657 10820  9071 11916  4084  8837\n",
            "  2342  3117  2332  4332  4221  3975 19272 13402  6274  3539  4779  1223\n",
            "  3673  5238  3420  4033  2619  6244  4728  8008  2867  3211  5206  5147\n",
            "  9250  5582 17567 16756  3748  3785 16823  1706  8606  2889  4568 13525\n",
            " 17861  4534  5126  4663  2956  2356 19419  2319  5094  4810 11416 19189\n",
            "  3760 19973  5033  5121  9980  2194 11849 10552  1200  5304  7457  3058\n",
            " 19187  4108  5467 11557  2659  5473  4960  3201  2678  5343  5674 10325\n",
            "  2296  5486  5326 13269  3917  3517  2644  3346  7406 10609  4148  4162\n",
            "  5405  6232  3074  6500  3702  2696  3212  6180  4478  4345  5775  2231\n",
            "  2768  2308  3196 10448  4601  2756  2244  4614  3907  9699  4678 12808\n",
            " 13191  4189 18789  4876  2856  6825  5056  3681  3730  4323  2570  4759\n",
            "  4537  5155  9738  3131  2099  2823  3688  9724  2267  2694  2238  4249\n",
            "  6332  3230 10475  6410 16307  5258  4103 17650  4450 12490  3660  2318\n",
            "  6385  3544  5063  2791  6861  4025  3690  5647  4317 18880 18172  2439\n",
            "  5769  2044  2785  4465  6932 19068  5433  2370  2075  2145  2506  3743\n",
            "  2778 15402  6782  2451 10685  5066  5993  7510  5855  4327  9998  2610\n",
            " 10748  1261  4223  2587  3445  2935  4105  2859 10422  2580  7655  3691\n",
            "  9526  2810  3069  5295  9981  4877  3140  2647  5770  5208  7644 10761\n",
            " 15686  5577 12185  1091  5390  2660 15202  5957  2272  9613  2207  7978\n",
            "  3629  4284 16606  2154 13245  4364  3867  2725  6347  4037  6134  2313\n",
            "  6928  5772  4447  4648 16885  9715 19537 10496  2074 13341  2976  2886\n",
            "  4941  2321  2661  2932 19328  2070  8853 19238  3755  2625  1010  7756\n",
            " 13320  1859  3955  5175  2323  8789  2863  6306 10938  3477 13458  2662\n",
            "  6804  5087  4766  4502  6651 18213  2871  4805  4193  7005  5485  6653\n",
            " 13744  2844  2875  5673  8686 10445  1559  4256 17603  2642  5131  6172\n",
            " 10883  2304  9208 13570  9069  2904  7094  4539  2780 19094  2837  2851\n",
            "  3221  5810  2655 17665  2168 14336  5417  5914 10999  2774  5561 18947\n",
            "  2838  3902  3143  5399  3291  4014  2093 16835  4485 10880  4187  2726\n",
            "  4735 17584  3919  7861  2700  4298  4621  2339  3563  2083  4071  4013\n",
            "  5484 17639  1081  9756  2510  4001  8103  2367  2177  5154  3033  2088\n",
            "  2045  7918  3978  6472  7642  2926  2455  2804  2720  2679  8268  2966\n",
            "  6893  2743  4505  2703 19665  8966  2232  3468  3931  4591 13503 10482\n",
            "  3983  2061  3204  1475 18844  4558  2274  6712  4969  6125  2307  2437\n",
            "  9725  4127  4434  2090  3591  6549 19613  8793  1359  2080 19658 10415\n",
            " 10596  5368  2109 19045  4907  6091 18722  2909  5940 16555 10231  6687\n",
            "  4487  2695  8740  4639  2523  2144  4640  9362  2408  7587  2713  5036\n",
            " 19190  4898  4717  7898  7484 17159  3950  4775  9884  3149  4869 13966\n",
            "  4227  5743  2073 11878 10248 13142  2374 19636  7991 10048  5071  2007\n",
            " 19502  5731  4306  4559  5042 18740  4684 10845  7779 17426 19545  6322\n",
            "  2645  4163  1878 19566  2690  6209  9888  3540  2766  4789  7396  5661\n",
            "  4342 18265 16704  9991  2368  2479  4312  3348  2571  1416  9924 13189\n",
            "  2297 18665  7823  2326  2809  6474  4581 17465  2325  5093  6632  9667\n",
            " 12742  8376  2288  4883  2305  2799  1790  2345  3708  4554  4320 18430\n",
            "  4851  9679  1483  5415  9525  3038 16799 10008 13237  9439  7336  3567\n",
            "  6781  5294  4285 10793  3041  5933  5828  4115  4258  3697 19246  2440\n",
            "  4930  6796  6583  3479  7725  5160  4011 10096  5762  8161  2322  3600\n",
            " 15379  5985  6834  7403  6799  5660  6735  7082 10368  3065  2258 13973\n",
            "  5974  4081  9907  2143  5363  4936  4087  8509  3977  2705  5916  2972\n",
            "  6815 13603  2289  5301 14118  4233  2576  4682  8639  6644 17924  3377\n",
            " 18061  6261  5472  5440  1567  2269  9619  4157 12504  4440  8823 10400\n",
            " 17174  6646  4585 17444  4741 17779 10480  2157  8858  2218  2887  5406\n",
            " 10447 13610  1601 15787  2028 19627  2593]\n",
            "2911     9\n",
            "2559     9\n",
            "6811     8\n",
            "5228     8\n",
            "2342     8\n",
            "        ..\n",
            "7510     1\n",
            "5066     1\n",
            "10685    1\n",
            "15402    1\n",
            "2593     1\n",
            "Name: MonthlyIncome, Length: 895, dtype: int64\n",
            "\n",
            "\n",
            "MonthlyRate : [ 5099 10778 16495 13384 19805  7103 16900 12916 21221  7950 13586 13939\n",
            "  7288  4759  4284  6194 16192 21143  3449 17000 26314 17198 19982 22474\n",
            " 11512  9129 24619 25761 14229  7246  5174 23848 25440 12368  4257  9262\n",
            "  5598 16530  8059 17231 17491 25174 22245 11162 22490  8770  9148  7259\n",
            "  8891  9192 16090 20763 19944 13137 21643 11103  2851 20308 23398  8828\n",
            " 15276 14977 16225  9679 15896  5518  5456 12477 25265 10842  7790 17312\n",
            " 11806 11873  2373 19757 14074  9100  6161 16374 20364  7160  4605  4223\n",
            "  8269 26999 12828 20431  3140 16379 11012 20338 15232 26250 23177  9150\n",
            " 22021 26236  2354  5602  2125  9490 20460  4658 22149  5033 12106 12392\n",
            " 17519 23474 14255 25751 18611 11677  6865 22553 19271 18767 23293 13934\n",
            " 22162 20990 23683 14369  8509 17381 16053 13982 24795 22670  8018  3010\n",
            " 10332 24447 15596 19124 10007  5561  9238 18798  4668  9096 16292 18899\n",
            " 22154 26278 22822 19121  4156 10228 22475  7693 24208 14862 11693 16031\n",
            " 26075 16193 13008 24525 17778 12388 13888 10558  4381 17536 13938  5860\n",
            " 10436 15417 17285  3193 18154 10302 19760 15395 26085 22645 25326 20489\n",
            " 21081 26062  5182  7568 19294 12482  6755  5543 19239  4992 11761 22961\n",
            " 25353 15891 22087 12227 22061  7181  6409  7747 24444 18697 12549 24812\n",
            "  9558 21445 17689 16998 12124 22376 15589 12992 22539 18706 25800 26227\n",
            "  6729 15901  8758 22266 15696  7636 22794 12982 11737 19305  5050 26767\n",
            " 23099 10893 14871 19373 22955  5640 23343 17078 17485 26551 20948 23288\n",
            " 22929  4258 20439  7530 23757  7973  8423 13943 21534  5348  3698  7324\n",
            " 21526  3372 23231 14377  3142  5531  8571 10224 24032 12858  9964 17171\n",
            " 11924 20586  5678 15170 24442  2447 26507  5630 22577  5242  6217 20652\n",
            " 21158 25592 24052 19715  3423 20328 18368 21029 17369 11652  8952 16044\n",
            " 26362  6233  6770  6881 22914 12449  5404 21293 18275 15986 21519  7003\n",
            "  8386 12761  5855  3339  2975 19989  9277 23457  3335 15062 26427 14408\n",
            " 14120 14382 17205  6889  5569  7791 25657  5044 10110 18410 23361  4235\n",
            " 14295 12287  2396 20392 22174  6759 21972 17799 22074  3031 24978 15471\n",
            " 25755 10205 21199 18089  4060 24017 10293 19921 26342 15238  5982 23793\n",
            " 24097 10425  6961 11864 17852 11354 20251 20497 23070 16376 21082 22722\n",
            " 17783 17544 10877 15174 26186 18624 20689 16143  7108 22478 23016 22477\n",
            " 14776  5843 18779 14669 17808 24152 21072  3854 17258 15497 10195 12853\n",
            "  8842 11189 26959 11005 16458 22098  3064  9659 11591  8489  4279 13693\n",
            " 16734  6227  2326  3809 25308 20234  5829 24609 19905  8544 22812  4204\n",
            " 22456  4761  4681  5207 10557 14618  5118  6076 21816  3157  6393 10554\n",
            " 14947  6582  2690  9255  3356 13684  3536  4652  5200  9724 15182 17363\n",
            "  8556 26124 23452 22002 15332  7713 17056 13494  5141 21630 15919 11825\n",
            " 23447 18775 17089  6152 12355 15682 12290  8346 17616 13257 10333 19332\n",
            "  8392  8232  8306 22908  7102 19345  6689 24223 20003  5288 23371 25479\n",
            " 19293 10950  7679 23779 22887  7501 10735  5151 23402 12313 21981 13554\n",
            " 19246  4821 15869 16130  2561 25949 12315 15881 13596  6153 16154 24118\n",
            "  4161 25258 14075  3156 14394  6208  2727 22650 23159 15850  9489 14561\n",
            " 26537 21509 22573   636 20440  9752  2253 18787  7824 14363 22604 18103\n",
            "  3835 17802 22930 11781 13531  9125 16019  4306 26009 20619 18698  6462\n",
            "  5594 21222 13556 25178 12154 19737 24483  3334  6209 19383 21378 20750\n",
            " 12127  2539 14842 11992 26589 10415 25594  9606 20335  4814 17001 18203\n",
            " 15813 19562  7975  4981 11925 13583  5388 24594 24252 26458  7909  6812\n",
            " 16102  3525 15669 24608 12147 23213 20206 15963 19764  8302  7508 18597\n",
            " 19877  6975 20161  9755 13493  6645  6670 17251 15834  2644 16117  2338\n",
            " 12291 20794 16632 13035  8416  4488 17477 23679  5197  3445 14168 23163\n",
            "  7507 19191 16392 16375 20420 12947 22384  6984 23910 10261 26076 21030\n",
            " 23553 17747 18659 12695  5355 15397  2890  6225  5335  4673 20293 13119\n",
            "  9069 12888  3666  6207 15975  9068 25796  6698 11092 15748 22128 14961\n",
            " 16002 25927 17674  4554 18869  7143  4297 21026  9128 18398 24301 19461\n",
            "  7122 26312 23522  6179 13588 13352 17810 19609 14115 14590  5718 22957\n",
            "  8456 14284  7152 17011 14922  7653  9867 26493 20933 20284 21703 25388\n",
            " 23364 18168 17663 15211 15178 16577  6069 19100  8841 25811 24666 14004\n",
            " 25364  8978  6705 12241  5586 19627  9647 18863 14011 26862  7192 23537\n",
            " 17119 18256 14506 17235  4317 17456 16290 21923 17654 22789  9961 11309\n",
            "  3487 24008 17624 18686  9998 24406  2137  3498  9953  7505 26092 22310\n",
            " 17241 15998  8040 23772  8787 20317 26176 13782 21731  9121 12826 19225\n",
            " 24450 19948 23281 19588 15701  5771 23490 19188 12145 16542  8863 16701\n",
            " 15747 15146  6054 26897 21086 16346 24440 26204 23037 22422 25291  3995\n",
            " 18092 11827  4585 17725 17759  8277 13251 15379 23785 23060  8450 22578\n",
            "  3458  6950 21829 10056 13243 13430  4022 15302 21457 15717 10225 18783\n",
            " 25043 24164  7677  9396 19479 24558  8931 20467 10494  7346 11882 13551\n",
            " 10589  3692 25681 25275  4187  9051  7060  9369 14399  5494 21214  8045\n",
            " 21195 12023 25166  7744  7703 10209  7439 23844  9696 26542  6073  2323\n",
            " 15972 20682 21146 21196 25549 22808 19146 16985 12862 21777 14293 24793\n",
            " 11929 24788  6148 26894 26703 23687  4349  7914 18300 21447 23384 20715\n",
            " 10034 21624 12414 10849 15000 15428 19196 15480 12832 15411 20989 15815\n",
            " 12278 22949  2671 13072 18420 25995 17181  9358 22102  3415 20978  8984\n",
            " 11479 20445 10036  8552 15678 19002 13672 16280  4244 22977 25812  8989\n",
            "  9256 13547  4933 13305 15067 10781 21057 11141 17822 13248  2755  3164\n",
            " 26849 15999  3811 18384  3032 16479 11135 10910  3425 19281  5949 19719\n",
            "  7129 15322  4051]\n",
            "4223     9\n",
            "8952     8\n",
            "15891    8\n",
            "22490    7\n",
            "16900    7\n",
            "        ..\n",
            "10950    1\n",
            "19293    1\n",
            "6689     1\n",
            "22908    1\n",
            "4051     1\n",
            "Name: MonthlyRate, Length: 903, dtype: int64\n",
            "\n",
            "\n",
            "NumCompaniesWorked : [1 0 3 5 2 8 6 7 9 4]\n",
            "1    606\n",
            "0    253\n",
            "2    169\n",
            "3    166\n",
            "4    161\n",
            "7     88\n",
            "6     68\n",
            "9     63\n",
            "5     61\n",
            "8     42\n",
            "Name: NumCompaniesWorked, dtype: int64\n",
            "\n",
            "\n",
            "\n",
            "\n",
            "\n",
            "\n",
            "PercentSalaryHike : [13 17 14 11 12 15 21 16 18 19 24 22 23 20 25]\n",
            "13    267\n",
            "14    258\n",
            "11    237\n",
            "12    235\n",
            "15    124\n",
            "18     97\n",
            "17     92\n",
            "19     79\n",
            "16     74\n",
            "22     57\n",
            "20     55\n",
            "21     54\n",
            "23     22\n",
            "24     16\n",
            "25     10\n",
            "Name: PercentSalaryHike, dtype: int64\n",
            "\n",
            "\n",
            "PerformanceRating : [3 4]\n",
            "3    1463\n",
            "4     214\n",
            "Name: PerformanceRating, dtype: int64\n",
            "\n",
            "\n",
            "RelationshipSatisfaction : [2 4 3 1]\n",
            "3    523\n",
            "4    518\n",
            "2    337\n",
            "1    299\n",
            "Name: RelationshipSatisfaction, dtype: int64\n",
            "\n",
            "\n",
            "StandardHours : [80]\n",
            "80    1677\n",
            "Name: StandardHours, dtype: int64\n",
            "\n",
            "\n",
            "StockOptionLevel : [1 2 0 3]\n",
            "1    745\n",
            "0    732\n",
            "2    135\n",
            "3     65\n",
            "Name: StockOptionLevel, dtype: int64\n",
            "\n",
            "\n",
            "TotalWorkingYears : [10  4 15 31  6  1 18  9 17 20 28 21  5  8 33  2 12 11 13 24 16  0 23  7\n",
            " 26 32 19 22 14  3 27 30 37 34 40 36 29 25 38 41 35]\n",
            "10    254\n",
            "6     156\n",
            "8     116\n",
            "9     114\n",
            "7     104\n",
            "1     103\n",
            "5      94\n",
            "4      77\n",
            "12     54\n",
            "15     53\n",
            "3      48\n",
            "13     44\n",
            "16     40\n",
            "18     35\n",
            "17     34\n",
            "21     33\n",
            "14     31\n",
            "2      30\n",
            "20     29\n",
            "11     28\n",
            "22     25\n",
            "19     22\n",
            "23     20\n",
            "24     18\n",
            "28     17\n",
            "26     16\n",
            "25     15\n",
            "0      13\n",
            "31      9\n",
            "33      8\n",
            "29      8\n",
            "30      7\n",
            "27      7\n",
            "34      4\n",
            "37      2\n",
            "36      2\n",
            "32      2\n",
            "38      2\n",
            "40      1\n",
            "41      1\n",
            "35      1\n",
            "Name: TotalWorkingYears, dtype: int64\n",
            "\n",
            "\n",
            "TrainingTimesLastYear : [2 3 1 0 5 4 6]\n",
            "2    655\n",
            "3    626\n",
            "5    122\n",
            "4    122\n",
            "1     63\n",
            "0     50\n",
            "6     39\n",
            "Name: TrainingTimesLastYear, dtype: int64\n",
            "\n",
            "\n",
            "WorkLifeBalance : [3 1 2 4]\n",
            "3    1089\n",
            "2     385\n",
            "4     135\n",
            "1      68\n",
            "Name: WorkLifeBalance, dtype: int64\n",
            "\n",
            "\n",
            "YearsAtCompany : [10  4  3  6 31  1 16  9  2  7  5 20 13  0  8 11 19 33 15 12 24 17 34 18\n",
            " 29 21 22 14 27 26 30 37 41 25]\n",
            "5     228\n",
            "1     214\n",
            "3     176\n",
            "10    138\n",
            "4     121\n",
            "2     108\n",
            "7     103\n",
            "9      99\n",
            "8      91\n",
            "6      87\n",
            "0      54\n",
            "20     35\n",
            "11     28\n",
            "13     28\n",
            "15     27\n",
            "22     17\n",
            "16     16\n",
            "14     16\n",
            "12     14\n",
            "17     14\n",
            "21     13\n",
            "24      9\n",
            "19      8\n",
            "18      7\n",
            "33      5\n",
            "25      5\n",
            "31      4\n",
            "29      3\n",
            "34      2\n",
            "27      2\n",
            "30      2\n",
            "26      1\n",
            "37      1\n",
            "41      1\n",
            "Name: YearsAtCompany, dtype: int64\n",
            "\n",
            "\n",
            "YearsInCurrentRole : [ 0  2 14  7  9  4  3  1  8 11  6  5 18 10 12 13 16 17 15]\n",
            "2     415\n",
            "0     307\n",
            "7     263\n",
            "3     166\n",
            "4     125\n",
            "8     103\n",
            "9      77\n",
            "1      43\n",
            "6      40\n",
            "5      34\n",
            "10     28\n",
            "11     16\n",
            "14     14\n",
            "13     14\n",
            "12     11\n",
            "16      6\n",
            "17      6\n",
            "15      5\n",
            "18      4\n",
            "Name: YearsInCurrentRole, dtype: int64\n",
            "\n",
            "\n",
            "YearsSinceLastPromotion : [ 7  0  1  4  2  6  3 13  5 11 15  8  9 10 14 12]\n",
            "0     726\n",
            "1     407\n",
            "2     148\n",
            "7      89\n",
            "4      78\n",
            "3      53\n",
            "5      41\n",
            "6      36\n",
            "11     31\n",
            "8      15\n",
            "9      15\n",
            "15     12\n",
            "13      8\n",
            "12      8\n",
            "14      6\n",
            "10      4\n",
            "Name: YearsSinceLastPromotion, dtype: int64\n",
            "\n",
            "\n",
            "YearsWithCurrManager : [ 8  3  2 10  0  9  7  4  1 13 12  5  6 11 17 15 16 14]\n",
            "2     387\n",
            "0     298\n",
            "7     265\n",
            "3     174\n",
            "8     126\n",
            "4     107\n",
            "1      71\n",
            "9      57\n",
            "5      37\n",
            "6      34\n",
            "11     30\n",
            "10     29\n",
            "12     22\n",
            "13     17\n",
            "17      8\n",
            "14      7\n",
            "15      6\n",
            "16      2\n",
            "Name: YearsWithCurrManager, dtype: int64\n",
            "\n",
            "\n",
            "Attrition : [0 1]\n",
            "0    1477\n",
            "1     200\n",
            "Name: Attrition, dtype: int64\n",
            "\n",
            "\n"
          ]
        }
      ],
      "source": [
        "for column in df.columns:\n",
        "    if df[column].dtype != object:\n",
        "        print(str(column) + ' : ' + str(df[column].unique()))\n",
        "        print(df[column].value_counts())\n",
        "    \n",
        "    print(\"\\n\")"
      ]
    },
    {
      "cell_type": "code",
      "execution_count": 83,
      "metadata": {
        "colab": {
          "background_save": true
        },
        "id": "OiihjOqNs8oq",
        "outputId": "b4b2eee7-f15f-4d1a-ed73-ad1bf8de3713"
      },
      "outputs": [
        {
          "name": "stdout",
          "output_type": "stream",
          "text": [
            "StandardHours : [80]\n",
            "80    1677\n",
            "Name: StandardHours, dtype: int64\n"
          ]
        }
      ],
      "source": [
        "column1 = 'StandardHours'\n",
        "\n",
        "print(str(column1) + ' : ' + str(df[column1].unique()))\n",
        "print(df[column1].value_counts())"
      ]
    },
    {
      "cell_type": "code",
      "execution_count": 84,
      "metadata": {
        "colab": {
          "background_save": true
        },
        "id": "ufujZAentB0s",
        "outputId": "2058c0e5-5f1b-4e79-99de-c27114bd53e2"
      },
      "outputs": [
        {
          "name": "stdout",
          "output_type": "stream",
          "text": [
            "EmployeeCount : [1]\n",
            "1    1677\n",
            "Name: EmployeeCount, dtype: int64\n"
          ]
        }
      ],
      "source": [
        "column1 = 'EmployeeCount'\n",
        "\n",
        "print(str(column1) + ' : ' + str(df[column1].unique()))\n",
        "print(df[column1].value_counts())"
      ]
    },
    {
      "cell_type": "markdown",
      "metadata": {
        "id": "RFegcXo5tN8o"
      },
      "source": [
        "#Preprocessing"
      ]
    },
    {
      "cell_type": "code",
      "execution_count": 85,
      "metadata": {
        "colab": {
          "background_save": true
        },
        "id": "nOsSciYFtBkw"
      },
      "outputs": [],
      "source": [
        "df = df.drop('id', axis = 1) \n",
        "\n",
        "df = df.drop('StandardHours', axis = 1) \n",
        "\n",
        "df = df.drop('EmployeeCount', axis = 1) \n",
        "\n",
        "df = df.drop('Over18', axis = 1)"
      ]
    },
    {
      "cell_type": "code",
      "execution_count": 86,
      "metadata": {
        "colab": {
          "background_save": true
        },
        "id": "rHRbY2OnsH7F"
      },
      "outputs": [],
      "source": [
        "df[\"BusinessTravel\"] = df[\"BusinessTravel\"].replace({\"Travel_Frequently\" : 0, \"Travel_Rarely\" : 1, \"Non-Travel\" : 2})\n",
        "df[\"Department\"] = df[\"Department\"].replace({\"Research & Development\" : 0, \"Sales\" : 1, \"Human Resources\" : 2})\n",
        "df[\"EducationField\"] = df[\"EducationField\"].replace({\"Medical\" : 0, \"Other\" : 1, \"Marketing\" : 2, \"Life Sciences\" : 3, \"Technical Degree\" : 4, \"Human Resources\" : 5})\n",
        "df[\"Gender\"] = df[\"Gender\"].replace({\"Male\" : 0, \"Female\" : 1})\n",
        "df[\"JobRole\"] = df[\"JobRole\"].replace({\"Laboratory Technician\" : 0, \"Sales Representative\" : 1, \"Sales Executive\" : 2, \"Healthcare Representative\" : 3, \"Manager\" : 4, \"Manufacturing Director\" : 5, \"Research Scientist\" : 6, \"Human Resources\" : 7, \"Research Director\" : 8})\n",
        "df[\"MaritalStatus\"] = df[\"MaritalStatus\"].replace({\"Married\" : 0, \"Single\" : 1, \"Divorced\" : 2})\n",
        "df[\"OverTime\"] = df[\"OverTime\"].replace({\"No\" : 0, \"Yes\" : 1})"
      ]
    },
    {
      "cell_type": "code",
      "execution_count": 87,
      "metadata": {
        "colab": {
          "background_save": true
        },
        "id": "owU80xhln7qZ",
        "outputId": "f985bdc3-fef8-4dc5-adb6-ae699cba8cf2"
      },
      "outputs": [
        {
          "data": {
            "text/html": [
              "<div>\n",
              "<style scoped>\n",
              "    .dataframe tbody tr th:only-of-type {\n",
              "        vertical-align: middle;\n",
              "    }\n",
              "\n",
              "    .dataframe tbody tr th {\n",
              "        vertical-align: top;\n",
              "    }\n",
              "\n",
              "    .dataframe thead th {\n",
              "        text-align: right;\n",
              "    }\n",
              "</style>\n",
              "<table border=\"1\" class=\"dataframe\">\n",
              "  <thead>\n",
              "    <tr style=\"text-align: right;\">\n",
              "      <th></th>\n",
              "      <th>Age</th>\n",
              "      <th>BusinessTravel</th>\n",
              "      <th>DailyRate</th>\n",
              "      <th>Department</th>\n",
              "      <th>DistanceFromHome</th>\n",
              "      <th>Education</th>\n",
              "      <th>EducationField</th>\n",
              "      <th>EnvironmentSatisfaction</th>\n",
              "      <th>Gender</th>\n",
              "      <th>HourlyRate</th>\n",
              "      <th>...</th>\n",
              "      <th>RelationshipSatisfaction</th>\n",
              "      <th>StockOptionLevel</th>\n",
              "      <th>TotalWorkingYears</th>\n",
              "      <th>TrainingTimesLastYear</th>\n",
              "      <th>WorkLifeBalance</th>\n",
              "      <th>YearsAtCompany</th>\n",
              "      <th>YearsInCurrentRole</th>\n",
              "      <th>YearsSinceLastPromotion</th>\n",
              "      <th>YearsWithCurrManager</th>\n",
              "      <th>Attrition</th>\n",
              "    </tr>\n",
              "  </thead>\n",
              "  <tbody>\n",
              "    <tr>\n",
              "      <th>0</th>\n",
              "      <td>36</td>\n",
              "      <td>0</td>\n",
              "      <td>599</td>\n",
              "      <td>0</td>\n",
              "      <td>24</td>\n",
              "      <td>3</td>\n",
              "      <td>0</td>\n",
              "      <td>4</td>\n",
              "      <td>0</td>\n",
              "      <td>42</td>\n",
              "      <td>...</td>\n",
              "      <td>2</td>\n",
              "      <td>1</td>\n",
              "      <td>10</td>\n",
              "      <td>2</td>\n",
              "      <td>3</td>\n",
              "      <td>10</td>\n",
              "      <td>0</td>\n",
              "      <td>7</td>\n",
              "      <td>8</td>\n",
              "      <td>0</td>\n",
              "    </tr>\n",
              "    <tr>\n",
              "      <th>1</th>\n",
              "      <td>35</td>\n",
              "      <td>1</td>\n",
              "      <td>921</td>\n",
              "      <td>1</td>\n",
              "      <td>8</td>\n",
              "      <td>3</td>\n",
              "      <td>1</td>\n",
              "      <td>1</td>\n",
              "      <td>0</td>\n",
              "      <td>46</td>\n",
              "      <td>...</td>\n",
              "      <td>4</td>\n",
              "      <td>1</td>\n",
              "      <td>4</td>\n",
              "      <td>3</td>\n",
              "      <td>3</td>\n",
              "      <td>4</td>\n",
              "      <td>2</td>\n",
              "      <td>0</td>\n",
              "      <td>3</td>\n",
              "      <td>0</td>\n",
              "    </tr>\n",
              "    <tr>\n",
              "      <th>2</th>\n",
              "      <td>32</td>\n",
              "      <td>1</td>\n",
              "      <td>718</td>\n",
              "      <td>1</td>\n",
              "      <td>26</td>\n",
              "      <td>3</td>\n",
              "      <td>2</td>\n",
              "      <td>3</td>\n",
              "      <td>0</td>\n",
              "      <td>80</td>\n",
              "      <td>...</td>\n",
              "      <td>4</td>\n",
              "      <td>2</td>\n",
              "      <td>4</td>\n",
              "      <td>3</td>\n",
              "      <td>3</td>\n",
              "      <td>3</td>\n",
              "      <td>2</td>\n",
              "      <td>1</td>\n",
              "      <td>2</td>\n",
              "      <td>0</td>\n",
              "    </tr>\n",
              "    <tr>\n",
              "      <th>3</th>\n",
              "      <td>38</td>\n",
              "      <td>1</td>\n",
              "      <td>1488</td>\n",
              "      <td>0</td>\n",
              "      <td>2</td>\n",
              "      <td>3</td>\n",
              "      <td>0</td>\n",
              "      <td>3</td>\n",
              "      <td>1</td>\n",
              "      <td>40</td>\n",
              "      <td>...</td>\n",
              "      <td>3</td>\n",
              "      <td>0</td>\n",
              "      <td>15</td>\n",
              "      <td>1</td>\n",
              "      <td>1</td>\n",
              "      <td>6</td>\n",
              "      <td>0</td>\n",
              "      <td>0</td>\n",
              "      <td>2</td>\n",
              "      <td>0</td>\n",
              "    </tr>\n",
              "    <tr>\n",
              "      <th>4</th>\n",
              "      <td>50</td>\n",
              "      <td>1</td>\n",
              "      <td>1017</td>\n",
              "      <td>0</td>\n",
              "      <td>5</td>\n",
              "      <td>4</td>\n",
              "      <td>0</td>\n",
              "      <td>2</td>\n",
              "      <td>1</td>\n",
              "      <td>37</td>\n",
              "      <td>...</td>\n",
              "      <td>3</td>\n",
              "      <td>0</td>\n",
              "      <td>31</td>\n",
              "      <td>0</td>\n",
              "      <td>3</td>\n",
              "      <td>31</td>\n",
              "      <td>14</td>\n",
              "      <td>4</td>\n",
              "      <td>10</td>\n",
              "      <td>1</td>\n",
              "    </tr>\n",
              "    <tr>\n",
              "      <th>...</th>\n",
              "      <td>...</td>\n",
              "      <td>...</td>\n",
              "      <td>...</td>\n",
              "      <td>...</td>\n",
              "      <td>...</td>\n",
              "      <td>...</td>\n",
              "      <td>...</td>\n",
              "      <td>...</td>\n",
              "      <td>...</td>\n",
              "      <td>...</td>\n",
              "      <td>...</td>\n",
              "      <td>...</td>\n",
              "      <td>...</td>\n",
              "      <td>...</td>\n",
              "      <td>...</td>\n",
              "      <td>...</td>\n",
              "      <td>...</td>\n",
              "      <td>...</td>\n",
              "      <td>...</td>\n",
              "      <td>...</td>\n",
              "      <td>...</td>\n",
              "    </tr>\n",
              "    <tr>\n",
              "      <th>1672</th>\n",
              "      <td>30</td>\n",
              "      <td>1</td>\n",
              "      <td>945</td>\n",
              "      <td>1</td>\n",
              "      <td>1</td>\n",
              "      <td>3</td>\n",
              "      <td>3</td>\n",
              "      <td>4</td>\n",
              "      <td>1</td>\n",
              "      <td>73</td>\n",
              "      <td>...</td>\n",
              "      <td>2</td>\n",
              "      <td>0</td>\n",
              "      <td>10</td>\n",
              "      <td>2</td>\n",
              "      <td>4</td>\n",
              "      <td>10</td>\n",
              "      <td>0</td>\n",
              "      <td>0</td>\n",
              "      <td>8</td>\n",
              "      <td>0</td>\n",
              "    </tr>\n",
              "    <tr>\n",
              "      <th>1673</th>\n",
              "      <td>32</td>\n",
              "      <td>1</td>\n",
              "      <td>1303</td>\n",
              "      <td>0</td>\n",
              "      <td>2</td>\n",
              "      <td>3</td>\n",
              "      <td>3</td>\n",
              "      <td>1</td>\n",
              "      <td>0</td>\n",
              "      <td>48</td>\n",
              "      <td>...</td>\n",
              "      <td>4</td>\n",
              "      <td>1</td>\n",
              "      <td>10</td>\n",
              "      <td>3</td>\n",
              "      <td>4</td>\n",
              "      <td>4</td>\n",
              "      <td>2</td>\n",
              "      <td>1</td>\n",
              "      <td>3</td>\n",
              "      <td>0</td>\n",
              "    </tr>\n",
              "    <tr>\n",
              "      <th>1674</th>\n",
              "      <td>29</td>\n",
              "      <td>0</td>\n",
              "      <td>1184</td>\n",
              "      <td>2</td>\n",
              "      <td>24</td>\n",
              "      <td>3</td>\n",
              "      <td>5</td>\n",
              "      <td>2</td>\n",
              "      <td>0</td>\n",
              "      <td>36</td>\n",
              "      <td>...</td>\n",
              "      <td>3</td>\n",
              "      <td>0</td>\n",
              "      <td>1</td>\n",
              "      <td>2</td>\n",
              "      <td>3</td>\n",
              "      <td>1</td>\n",
              "      <td>0</td>\n",
              "      <td>0</td>\n",
              "      <td>0</td>\n",
              "      <td>1</td>\n",
              "    </tr>\n",
              "    <tr>\n",
              "      <th>1675</th>\n",
              "      <td>36</td>\n",
              "      <td>1</td>\n",
              "      <td>441</td>\n",
              "      <td>1</td>\n",
              "      <td>9</td>\n",
              "      <td>2</td>\n",
              "      <td>2</td>\n",
              "      <td>2</td>\n",
              "      <td>0</td>\n",
              "      <td>48</td>\n",
              "      <td>...</td>\n",
              "      <td>3</td>\n",
              "      <td>2</td>\n",
              "      <td>10</td>\n",
              "      <td>3</td>\n",
              "      <td>2</td>\n",
              "      <td>10</td>\n",
              "      <td>3</td>\n",
              "      <td>0</td>\n",
              "      <td>8</td>\n",
              "      <td>0</td>\n",
              "    </tr>\n",
              "    <tr>\n",
              "      <th>1676</th>\n",
              "      <td>36</td>\n",
              "      <td>1</td>\n",
              "      <td>1141</td>\n",
              "      <td>0</td>\n",
              "      <td>20</td>\n",
              "      <td>3</td>\n",
              "      <td>3</td>\n",
              "      <td>3</td>\n",
              "      <td>1</td>\n",
              "      <td>35</td>\n",
              "      <td>...</td>\n",
              "      <td>4</td>\n",
              "      <td>0</td>\n",
              "      <td>10</td>\n",
              "      <td>3</td>\n",
              "      <td>2</td>\n",
              "      <td>8</td>\n",
              "      <td>2</td>\n",
              "      <td>7</td>\n",
              "      <td>3</td>\n",
              "      <td>0</td>\n",
              "    </tr>\n",
              "  </tbody>\n",
              "</table>\n",
              "<p>1677 rows × 31 columns</p>\n",
              "</div>"
            ],
            "text/plain": [
              "      Age  BusinessTravel  DailyRate  Department  DistanceFromHome  Education  \\\n",
              "0      36               0        599           0                24          3   \n",
              "1      35               1        921           1                 8          3   \n",
              "2      32               1        718           1                26          3   \n",
              "3      38               1       1488           0                 2          3   \n",
              "4      50               1       1017           0                 5          4   \n",
              "...   ...             ...        ...         ...               ...        ...   \n",
              "1672   30               1        945           1                 1          3   \n",
              "1673   32               1       1303           0                 2          3   \n",
              "1674   29               0       1184           2                24          3   \n",
              "1675   36               1        441           1                 9          2   \n",
              "1676   36               1       1141           0                20          3   \n",
              "\n",
              "      EducationField  EnvironmentSatisfaction  Gender  HourlyRate  ...  \\\n",
              "0                  0                        4       0          42  ...   \n",
              "1                  1                        1       0          46  ...   \n",
              "2                  2                        3       0          80  ...   \n",
              "3                  0                        3       1          40  ...   \n",
              "4                  0                        2       1          37  ...   \n",
              "...              ...                      ...     ...         ...  ...   \n",
              "1672               3                        4       1          73  ...   \n",
              "1673               3                        1       0          48  ...   \n",
              "1674               5                        2       0          36  ...   \n",
              "1675               2                        2       0          48  ...   \n",
              "1676               3                        3       1          35  ...   \n",
              "\n",
              "      RelationshipSatisfaction  StockOptionLevel  TotalWorkingYears  \\\n",
              "0                            2                 1                 10   \n",
              "1                            4                 1                  4   \n",
              "2                            4                 2                  4   \n",
              "3                            3                 0                 15   \n",
              "4                            3                 0                 31   \n",
              "...                        ...               ...                ...   \n",
              "1672                         2                 0                 10   \n",
              "1673                         4                 1                 10   \n",
              "1674                         3                 0                  1   \n",
              "1675                         3                 2                 10   \n",
              "1676                         4                 0                 10   \n",
              "\n",
              "      TrainingTimesLastYear  WorkLifeBalance  YearsAtCompany  \\\n",
              "0                         2                3              10   \n",
              "1                         3                3               4   \n",
              "2                         3                3               3   \n",
              "3                         1                1               6   \n",
              "4                         0                3              31   \n",
              "...                     ...              ...             ...   \n",
              "1672                      2                4              10   \n",
              "1673                      3                4               4   \n",
              "1674                      2                3               1   \n",
              "1675                      3                2              10   \n",
              "1676                      3                2               8   \n",
              "\n",
              "      YearsInCurrentRole  YearsSinceLastPromotion  YearsWithCurrManager  \\\n",
              "0                      0                        7                     8   \n",
              "1                      2                        0                     3   \n",
              "2                      2                        1                     2   \n",
              "3                      0                        0                     2   \n",
              "4                     14                        4                    10   \n",
              "...                  ...                      ...                   ...   \n",
              "1672                   0                        0                     8   \n",
              "1673                   2                        1                     3   \n",
              "1674                   0                        0                     0   \n",
              "1675                   3                        0                     8   \n",
              "1676                   2                        7                     3   \n",
              "\n",
              "      Attrition  \n",
              "0             0  \n",
              "1             0  \n",
              "2             0  \n",
              "3             0  \n",
              "4             1  \n",
              "...         ...  \n",
              "1672          0  \n",
              "1673          0  \n",
              "1674          1  \n",
              "1675          0  \n",
              "1676          0  \n",
              "\n",
              "[1677 rows x 31 columns]"
            ]
          },
          "execution_count": 87,
          "metadata": {},
          "output_type": "execute_result"
        }
      ],
      "source": [
        "df"
      ]
    },
    {
      "cell_type": "code",
      "execution_count": 88,
      "metadata": {
        "colab": {
          "background_save": true
        },
        "id": "FuVHNYRZsvse",
        "outputId": "8e545d37-9081-4d88-f250-1952394795bc"
      },
      "outputs": [
        {
          "data": {
            "text/plain": [
              "Age                         int64\n",
              "BusinessTravel              int64\n",
              "DailyRate                   int64\n",
              "Department                  int64\n",
              "DistanceFromHome            int64\n",
              "Education                   int64\n",
              "EducationField              int64\n",
              "EnvironmentSatisfaction     int64\n",
              "Gender                      int64\n",
              "HourlyRate                  int64\n",
              "JobInvolvement              int64\n",
              "JobLevel                    int64\n",
              "JobRole                     int64\n",
              "JobSatisfaction             int64\n",
              "MaritalStatus               int64\n",
              "MonthlyIncome               int64\n",
              "MonthlyRate                 int64\n",
              "NumCompaniesWorked          int64\n",
              "OverTime                    int64\n",
              "PercentSalaryHike           int64\n",
              "PerformanceRating           int64\n",
              "RelationshipSatisfaction    int64\n",
              "StockOptionLevel            int64\n",
              "TotalWorkingYears           int64\n",
              "TrainingTimesLastYear       int64\n",
              "WorkLifeBalance             int64\n",
              "YearsAtCompany              int64\n",
              "YearsInCurrentRole          int64\n",
              "YearsSinceLastPromotion     int64\n",
              "YearsWithCurrManager        int64\n",
              "Attrition                   int64\n",
              "dtype: object"
            ]
          },
          "execution_count": 88,
          "metadata": {},
          "output_type": "execute_result"
        }
      ],
      "source": [
        "df.dtypes"
      ]
    },
    {
      "cell_type": "code",
      "execution_count": 89,
      "metadata": {
        "colab": {
          "background_save": true
        },
        "id": "OPNgiqxPsyXU"
      },
      "outputs": [],
      "source": [
        "X = df.drop(['Attrition'], axis=1)\n",
        "y = df['Attrition']"
      ]
    },
    {
      "cell_type": "markdown",
      "metadata": {
        "id": "-miEU_8OB9UI"
      },
      "source": [
        "Feature Scalling"
      ]
    },
    {
      "cell_type": "code",
      "execution_count": 90,
      "metadata": {
        "colab": {
          "background_save": true
        },
        "id": "TcfvXCcOpr5e"
      },
      "outputs": [],
      "source": [
        "from sklearn.preprocessing import StandardScaler\n",
        "scale = StandardScaler()\n",
        "X = scale.fit_transform(X)\n"
      ]
    },
    {
      "cell_type": "markdown",
      "metadata": {
        "id": "Et7_eaj4tzo3"
      },
      "source": [
        "#Train Test Split and Model"
      ]
    },
    {
      "cell_type": "code",
      "execution_count": 91,
      "metadata": {
        "colab": {
          "background_save": true
        },
        "id": "bf5LP9aRtbGp"
      },
      "outputs": [],
      "source": [
        "from sklearn.model_selection import train_test_split\n",
        "X_train, X_test, y_train, y_test = train_test_split(X,y,test_size =0.2,random_state=42)"
      ]
    },
    {
      "cell_type": "code",
      "execution_count": 92,
      "metadata": {
        "colab": {
          "background_save": true
        },
        "id": "bG5TZEtEt3Wx",
        "outputId": "a207a271-3bb5-4dad-cf1b-9b5cd3c6246c"
      },
      "outputs": [
        {
          "name": "stdout",
          "output_type": "stream",
          "text": [
            "(1341, 30)\n",
            "(336, 30)\n",
            "(1341,)\n",
            "(336,)\n"
          ]
        }
      ],
      "source": [
        "print(X_train.shape)\n",
        "print(X_test.shape)\n",
        "print(y_train.shape)\n",
        "print(y_test.shape)"
      ]
    },
    {
      "cell_type": "markdown",
      "metadata": {
        "id": "xe3iRUct5tmM"
      },
      "source": [
        "#Logistic Regression"
      ]
    },
    {
      "cell_type": "code",
      "execution_count": 93,
      "metadata": {
        "colab": {
          "background_save": true
        },
        "id": "Gv9X5rUzuEHp"
      },
      "outputs": [],
      "source": [
        "from sklearn.linear_model import LogisticRegression"
      ]
    },
    {
      "cell_type": "code",
      "execution_count": 94,
      "metadata": {
        "colab": {
          "background_save": true
        },
        "id": "XHQ6AHVwuIou",
        "outputId": "6088e1d6-9dfe-4335-e212-289d094eb515"
      },
      "outputs": [
        {
          "data": {
            "text/plain": [
              "LogisticRegression()"
            ]
          },
          "execution_count": 94,
          "metadata": {},
          "output_type": "execute_result"
        }
      ],
      "source": [
        "modelLogistic = LogisticRegression()\n",
        "modelLogistic.fit(X_train, y_train)"
      ]
    },
    {
      "cell_type": "code",
      "execution_count": 95,
      "metadata": {
        "colab": {
          "background_save": true
        },
        "id": "ULb8c11L2DT_",
        "outputId": "8d7bf220-afe6-4e15-e4a1-20ecfb6c8197"
      },
      "outputs": [
        {
          "data": {
            "text/plain": [
              "array([0, 0, 1, 0, 0, 0, 0, 1, 0, 0, 0, 0, 0, 0, 0, 0, 0, 0, 0, 0, 0, 0,\n",
              "       0, 0, 0, 0, 0, 0, 0, 0, 0, 0, 0, 0, 0, 0, 0, 0, 0, 0, 0, 0, 0, 0,\n",
              "       0, 0, 0, 0, 0, 0, 0, 0, 0, 0, 0, 0, 0, 0, 0, 0, 0, 0, 0, 0, 0, 0,\n",
              "       0, 0, 0, 0, 0, 0, 0, 0, 0, 0, 0, 0, 0, 0, 0, 0, 0, 0, 0, 0, 0, 0,\n",
              "       1, 0, 0, 0, 0, 0, 0, 0, 0, 0, 0, 0, 0, 0, 0, 0, 0, 0, 0, 0, 0, 0,\n",
              "       1, 0, 0, 0, 0, 0, 0, 0, 0, 0, 0, 0, 0, 0, 0, 0, 1, 0, 0, 0, 0, 0,\n",
              "       0, 0, 0, 0, 0, 0, 0, 0, 0, 0, 0, 0, 0, 0, 0, 0, 0, 0, 0, 0, 0, 0,\n",
              "       0, 0, 0, 0, 0, 0, 0, 0, 0, 0, 0, 0, 0, 0, 0, 0, 0, 0, 0, 0, 0, 0,\n",
              "       0, 0, 0, 0, 0, 0, 0, 0, 0, 0, 0, 0, 0, 0, 1, 0, 0, 0, 0, 0, 0, 0,\n",
              "       0, 0, 0, 0, 0, 0, 0, 0, 0, 0, 0, 0, 0, 0, 0, 0, 0, 0, 0, 1, 0, 0,\n",
              "       0, 0, 0, 0, 0, 0, 0, 0, 0, 0, 0, 0, 0, 0, 0, 1, 0, 0, 0, 0, 0, 0,\n",
              "       0, 0, 0, 0, 0, 0, 0, 0, 0, 0, 0, 0, 0, 0, 0, 0, 0, 0, 0, 0, 0, 0,\n",
              "       0, 0, 0, 0, 0, 0, 0, 0, 0, 0, 0, 0, 0, 0, 0, 0, 0, 0, 0, 0, 0, 0,\n",
              "       0, 0, 0, 0, 0, 0, 0, 1, 1, 0, 0, 0, 0, 0, 0, 0, 0, 0, 0, 1, 0, 0,\n",
              "       0, 1, 0, 0, 0, 0, 0, 1, 0, 0, 0, 0, 0, 0, 0, 0, 0, 0, 0, 0, 0, 0,\n",
              "       0, 0, 0, 0, 0, 0], dtype=int64)"
            ]
          },
          "execution_count": 95,
          "metadata": {},
          "output_type": "execute_result"
        }
      ],
      "source": [
        "y_pred = modelLogistic.predict(X_test)\n",
        "y_prob = modelLogistic.predict_proba(X_train)[:,1]\n",
        "y_pred"
      ]
    },
    {
      "cell_type": "markdown",
      "metadata": {
        "id": "Tc_BpFLEqPUq"
      },
      "source": [
        "Metrics of Logistic Regression"
      ]
    },
    {
      "cell_type": "code",
      "execution_count": 96,
      "metadata": {
        "colab": {
          "background_save": true
        },
        "id": "mpvYKEEIuSEh",
        "outputId": "8aad0d63-77b1-4705-ab18-b31b8bad20ee"
      },
      "outputs": [
        {
          "name": "stdout",
          "output_type": "stream",
          "text": [
            "Accuracy: 0.8839285714285714\n",
            "Precision: 0.6923076923076923\n",
            "F1-score: 0.3157894736842105\n",
            "ROC AUC: 0.595423412204234\n"
          ]
        }
      ],
      "source": [
        "from sklearn.metrics import accuracy_score, precision_score, f1_score, roc_curve, auc\n",
        "accuracy = accuracy_score(y_test, y_pred)\n",
        "\n",
        "# Calculate precision\n",
        "precision = precision_score(y_test, y_pred)\n",
        "\n",
        "# Calculate f1-score\n",
        "f1 = f1_score(y_test, y_pred)\n",
        "\n",
        "# Calculate ROC curve and AUC\n",
        "#fpr, tpr, thresholds = roc_curve(y_test, modelLogistic.predict_proba(X_test)[:,1])\n",
        "fpr, tpr, thresholds = roc_curve(y_test, y_pred)\n",
        "roc_auc = auc(fpr, tpr)\n",
        "\n",
        "# Print the results\n",
        "print(\"Accuracy:\", accuracy)\n",
        "print(\"Precision:\", precision)\n",
        "print(\"F1-score:\", f1)\n",
        "print(\"ROC AUC:\", roc_auc)\n"
      ]
    },
    {
      "cell_type": "code",
      "execution_count": 97,
      "metadata": {
        "colab": {
          "background_save": true
        },
        "id": "Xqn0O0j_uV-P",
        "outputId": "c684d1b3-4da3-4dc0-a3c4-c67dcb59d254"
      },
      "outputs": [
        {
          "data": {
            "image/png": "[encoded data removed]",
            "text/plain": [
              "<Figure size 432x288 with 1 Axes>"
            ]
          },
          "metadata": {
            "needs_background": "light"
          },
          "output_type": "display_data"
        }
      ],
      "source": [
        "from sklearn.metrics import roc_curve, auc\n",
        "import matplotlib.pyplot as plt\n",
        "from sklearn import metrics\n",
        "\n",
        "# fpr, tpr, _ = metrics.roc_curve(y_test, y_pred)\n",
        "# auclog = metrics.roc_auc_score(y_test, y_pred)\n",
        "plt.plot(fpr, tpr, label = \"Logistic Regression = \" + str(roc_auc))\n",
        "\n",
        "plt.ylabel(\"True Positive Rate\")\n",
        "plt.xlabel(\"False Positive Rate\")\n",
        "plt.legend(loc = 4)\n",
        "plt.show()"
      ]
    },
    {
      "cell_type": "code",
      "execution_count": 98,
      "metadata": {
        "colab": {
          "background_save": true
        },
        "id": "CJmErEjclteW",
        "outputId": "01a9ee16-b32e-479f-d860-25f571a442ce"
      },
      "outputs": [
        {
          "name": "stdout",
          "output_type": "stream",
          "text": [
            "[[288   4]\n",
            " [ 35   9]]\n"
          ]
        },
        {
          "data": {
            "image/png": "[encoded data removed]",
            "text/plain": [
              "<Figure size 432x288 with 2 Axes>"
            ]
          },
          "metadata": {
            "needs_background": "light"
          },
          "output_type": "display_data"
        }
      ],
      "source": [
        "import matplotlib.pyplot as plt\n",
        "import seaborn as sns\n",
        "from sklearn.metrics import confusion_matrix\n",
        "\n",
        "confusion_mat = confusion_matrix(y_test, y_pred)\n",
        "print(confusion_mat)\n",
        "sns.heatmap(confusion_mat, annot=True, cmap=\"Blues\")\n",
        "plt.xlabel(\"Predicted labels\")\n",
        "plt.ylabel(\"True labels\")\n",
        "plt.show()"
      ]
    },
    {
      "cell_type": "code",
      "execution_count": 99,
      "metadata": {
        "colab": {
          "background_save": true
        },
        "id": "rNYHu7XTIHfl"
      },
      "outputs": [],
      "source": [
        "LRMetrics = [accuracy, precision, f1, roc_auc]"
      ]
    },
    {
      "cell_type": "markdown",
      "metadata": {
        "id": "5yz7JttSIgtm"
      },
      "source": [
        "#Desicion tree\n"
      ]
    },
    {
      "cell_type": "code",
      "execution_count": 100,
      "metadata": {
        "id": "SKod9PsTCdiz"
      },
      "outputs": [
        {
          "name": "stdout",
          "output_type": "stream",
          "text": [
            "Best paramters: {'criterion': 'entropy', 'max_depth': 15, 'min_samples_leaf': 1, 'min_samples_split': 4})\n"
          ]
        }
      ],
      "source": [
        "from sklearn.tree import DecisionTreeClassifier\n",
        "from sklearn.model_selection import GridSearchCV\n",
        "\n",
        "params = {\n",
        "    \"criterion\":(\"gini\", \"entropy\"), \n",
        "    \"max_depth\":(list(range(1, 20))), \n",
        "    \"min_samples_split\":[2, 3, 4], \n",
        "    \"min_samples_leaf\":list(range(1, 20)), \n",
        "}\n",
        "tree_clf = DecisionTreeClassifier(random_state=42)\n",
        "tree_cv = GridSearchCV(\n",
        "    tree_clf, \n",
        "    params, \n",
        "    scoring=\"f1\", \n",
        "    n_jobs=-1, \n",
        ")\n",
        "\n",
        "tree_cv.fit(X_train, y_train)\n",
        "best_params = tree_cv.best_params_\n",
        "print(f\"Best paramters: {best_params})\")\n",
        "\n",
        "tree_clf = DecisionTreeClassifier(**best_params)\n",
        "tree_clf.fit(X_train, y_train)\n",
        "y_dt = tree_clf.predict(X_test)\n",
        "\n",
        "# print(y_dt)"
      ]
    },
    {
      "cell_type": "code",
      "execution_count": 101,
      "metadata": {
        "id": "tons60pBtUxz"
      },
      "outputs": [
        {
          "data": {
            "text/plain": [
              "array([0, 0, 1, 0, 0, 0, 1, 0, 0, 0, 0, 0, 0, 0, 0, 0, 0, 0, 0, 0, 0, 1,\n",
              "       0, 0, 0, 0, 0, 0, 0, 1, 0, 0, 0, 0, 0, 0, 0, 0, 0, 0, 0, 0, 0, 0,\n",
              "       0, 0, 0, 0, 0, 0, 0, 1, 1, 0, 0, 1, 0, 0, 1, 0, 0, 0, 0, 0, 1, 0,\n",
              "       0, 0, 0, 0, 0, 0, 0, 0, 0, 0, 0, 0, 0, 0, 0, 0, 0, 0, 0, 0, 0, 0,\n",
              "       1, 0, 0, 0, 0, 0, 0, 0, 1, 0, 1, 0, 0, 0, 0, 0, 0, 0, 0, 0, 0, 0,\n",
              "       1, 0, 0, 0, 0, 0, 0, 0, 0, 0, 1, 0, 0, 0, 1, 0, 1, 0, 0, 1, 0, 0,\n",
              "       1, 0, 0, 0, 0, 0, 0, 0, 0, 0, 0, 0, 0, 0, 0, 0, 0, 1, 0, 1, 0, 0,\n",
              "       1, 1, 0, 1, 0, 0, 1, 0, 0, 0, 0, 0, 0, 0, 0, 0, 0, 0, 0, 0, 0, 0,\n",
              "       0, 0, 0, 0, 0, 0, 0, 0, 0, 0, 0, 0, 0, 0, 1, 0, 0, 0, 0, 0, 0, 0,\n",
              "       0, 0, 0, 0, 0, 0, 0, 0, 0, 0, 0, 0, 0, 0, 0, 0, 0, 0, 0, 0, 0, 1,\n",
              "       0, 0, 0, 0, 0, 0, 1, 0, 0, 0, 0, 0, 0, 1, 0, 0, 1, 0, 0, 0, 0, 0,\n",
              "       0, 0, 0, 0, 0, 0, 0, 1, 1, 0, 0, 0, 0, 0, 1, 0, 0, 1, 0, 0, 0, 0,\n",
              "       0, 0, 0, 0, 0, 0, 0, 0, 1, 0, 0, 0, 0, 0, 0, 0, 0, 0, 0, 1, 0, 0,\n",
              "       0, 0, 0, 0, 0, 0, 1, 1, 0, 0, 0, 0, 0, 0, 0, 0, 0, 1, 0, 1, 0, 0,\n",
              "       0, 0, 0, 0, 0, 0, 0, 0, 0, 1, 0, 0, 0, 0, 0, 0, 0, 0, 0, 1, 0, 0,\n",
              "       0, 0, 0, 0, 0, 0], dtype=int64)"
            ]
          },
          "execution_count": 101,
          "metadata": {},
          "output_type": "execute_result"
        }
      ],
      "source": [
        "y_dt"
      ]
    },
    {
      "cell_type": "code",
      "execution_count": 102,
      "metadata": {
        "id": "K1jnbQxosT1b"
      },
      "outputs": [
        {
          "name": "stdout",
          "output_type": "stream",
          "text": [
            "Accuracy: 0.8363095238095238\n",
            "Precision: 0.36585365853658536\n",
            "F1-score: 0.3529411764705882\n",
            "ROC AUC: 0.6262064134495641\n"
          ]
        }
      ],
      "source": [
        "from sklearn.metrics import accuracy_score, precision_score, f1_score, roc_curve, auc\n",
        "accuracy_dt = accuracy_score(y_test, y_dt)\n",
        "\n",
        "# Calculate precision\n",
        "precision_dt = precision_score(y_test, y_dt)\n",
        "\n",
        "# Calculate f1-score\n",
        "f1_dt = f1_score(y_test, y_dt)\n",
        "\n",
        "# Calculate ROC curve and AUC\n",
        "fpr_dt, tpr_dt, thresholds_dt = roc_curve(y_test, tree_clf.predict_proba(X_test)[:,1])\n",
        "roc_auc_dt = auc(fpr_dt, tpr_dt)\n",
        "\n",
        "# Print the results\n",
        "print(\"Accuracy:\", accuracy_dt)\n",
        "print(\"Precision:\", precision_dt)\n",
        "print(\"F1-score:\", f1_dt)\n",
        "print(\"ROC AUC:\", roc_auc_dt)"
      ]
    },
    {
      "cell_type": "code",
      "execution_count": 103,
      "metadata": {
        "id": "RpKWlMLOvStA"
      },
      "outputs": [
        {
          "name": "stdout",
          "output_type": "stream",
          "text": [
            "[[266  26]\n",
            " [ 29  15]]\n"
          ]
        },
        {
          "data": {
            "image/png": "[encoded data removed]",
            "text/plain": [
              "<Figure size 432x288 with 2 Axes>"
            ]
          },
          "metadata": {
            "needs_background": "light"
          },
          "output_type": "display_data"
        }
      ],
      "source": [
        "import matplotlib.pyplot as plt\n",
        "import seaborn as sns\n",
        "from sklearn.metrics import confusion_matrix\n",
        "\n",
        "confusion_mat = confusion_matrix(y_test, y_dt)\n",
        "print(confusion_mat)\n",
        "sns.heatmap(confusion_mat, annot=True, cmap=\"Blues\")\n",
        "plt.xlabel(\"Predicted labels\")\n",
        "plt.ylabel(\"True labels\")\n",
        "plt.show()"
      ]
    },
    {
      "cell_type": "code",
      "execution_count": 104,
      "metadata": {
        "id": "mwT_eq0LCjvm"
      },
      "outputs": [
        {
          "data": {
            "text/plain": [
              "array([0, 0, 1, 0, 0, 0, 1, 0, 0, 0, 0, 0, 0, 0, 0, 0, 0, 0, 0, 0, 0, 1,\n",
              "       0, 0, 0, 0, 0, 0, 0, 1, 0, 0, 0, 0, 0, 0, 0, 0, 0, 0, 0, 0, 0, 0,\n",
              "       0, 0, 0, 0, 0, 0, 0, 1, 1, 0, 0, 1, 0, 0, 1, 0, 0, 0, 0, 0, 1, 0,\n",
              "       0, 0, 0, 0, 0, 0, 0, 0, 0, 0, 0, 0, 0, 0, 0, 0, 0, 0, 0, 0, 0, 0,\n",
              "       1, 0, 0, 0, 0, 0, 0, 0, 1, 0, 1, 0, 0, 0, 0, 0, 0, 0, 0, 0, 0, 0,\n",
              "       1, 0, 0, 0, 0, 0, 0, 0, 0, 0, 1, 0, 0, 0, 1, 0, 1, 0, 0, 1, 0, 0,\n",
              "       1, 0, 0, 0, 0, 0, 0, 0, 0, 0, 0, 0, 0, 0, 0, 0, 0, 1, 0, 1, 0, 0,\n",
              "       1, 1, 0, 1, 0, 0, 1, 0, 0, 0, 0, 0, 0, 0, 0, 0, 0, 0, 0, 0, 0, 0,\n",
              "       0, 0, 0, 0, 0, 0, 0, 0, 0, 0, 0, 0, 0, 0, 1, 0, 0, 0, 0, 0, 0, 0,\n",
              "       0, 0, 0, 0, 0, 0, 0, 0, 0, 0, 0, 0, 0, 0, 0, 0, 0, 0, 0, 0, 0, 1,\n",
              "       0, 0, 0, 0, 0, 0, 1, 0, 0, 0, 0, 0, 0, 1, 0, 0, 1, 0, 0, 0, 0, 0,\n",
              "       0, 0, 0, 0, 0, 0, 0, 1, 1, 0, 0, 0, 0, 0, 1, 0, 0, 1, 0, 0, 0, 0,\n",
              "       0, 0, 0, 0, 0, 0, 0, 0, 1, 0, 0, 0, 0, 0, 0, 0, 0, 0, 0, 1, 0, 0,\n",
              "       0, 0, 0, 0, 0, 0, 1, 1, 0, 0, 0, 0, 0, 0, 0, 0, 0, 1, 0, 1, 0, 0,\n",
              "       0, 0, 0, 0, 0, 0, 0, 0, 0, 1, 0, 0, 0, 0, 0, 0, 0, 0, 0, 1, 0, 0,\n",
              "       0, 0, 0, 0, 0, 0], dtype=int64)"
            ]
          },
          "execution_count": 104,
          "metadata": {},
          "output_type": "execute_result"
        }
      ],
      "source": [
        "y_dt"
      ]
    },
    {
      "cell_type": "code",
      "execution_count": 105,
      "metadata": {
        "id": "H7mH9SHm8VFt"
      },
      "outputs": [
        {
          "data": {
            "image/png": "[encoded data removed]",
            "text/plain": [
              "<Figure size 432x288 with 1 Axes>"
            ]
          },
          "metadata": {
            "needs_background": "light"
          },
          "output_type": "display_data"
        }
      ],
      "source": [
        "from sklearn.metrics import roc_curve, auc\n",
        "import matplotlib.pyplot as plt\n",
        "from sklearn import metrics\n",
        "\n",
        "\n",
        "plt.plot(fpr_dt, tpr_dt, label = \"Decision Tree = \" + str(roc_auc_dt))\n",
        "\n",
        "plt.ylabel(\"True Positive Rate\")\n",
        "plt.xlabel(\"False Positive Rate\")\n",
        "plt.legend(loc = 4)\n",
        "plt.show()"
      ]
    },
    {
      "cell_type": "code",
      "execution_count": 106,
      "metadata": {
        "id": "Vnd7BII-H5ns"
      },
      "outputs": [],
      "source": [
        "DTMetrics = [accuracy_dt, precision_dt, f1_dt, roc_auc_dt]"
      ]
    },
    {
      "cell_type": "markdown",
      "metadata": {
        "id": "N7npU39SKowe"
      },
      "source": [
        "#Random Forest\n"
      ]
    },
    {
      "cell_type": "code",
      "execution_count": 107,
      "metadata": {
        "id": "rwo7KSumKr2s"
      },
      "outputs": [
        {
          "name": "stdout",
          "output_type": "stream",
          "text": [
            "Random Forest Classifier Accuracy Score for Train:  0.875\n"
          ]
        }
      ],
      "source": [
        "from sklearn.ensemble import RandomForestClassifier\n",
        "rfc = RandomForestClassifier()\n",
        "rfc.fit(X_train, y_train)\n",
        "rfc_y_train_pred = rfc.predict(X_test)\n",
        "rfc_y_train_prob = rfc.predict_proba(X_train)[:,1]\n",
        "\n",
        "print(\"Random Forest Classifier Accuracy Score for Train: \", accuracy_score(y_test, rfc_y_train_pred))"
      ]
    },
    {
      "cell_type": "code",
      "execution_count": 108,
      "metadata": {
        "id": "9yaUljK9wQ0R"
      },
      "outputs": [],
      "source": [
        "from sklearn.model_selection import RandomizedSearchCV\n",
        "from scipy.stats import randint as sp_randint\n",
        "from sklearn.metrics import roc_auc_score\n",
        "from sklearn.ensemble import RandomForestClassifier\n",
        "params = {\n",
        "    'n_estimators':sp_randint(5,150),#nooftrees\n",
        "    'max_features':sp_randint(1,31),#choose any values betwenn 1-31 features excluding Attrition\n",
        "    'max_depth':sp_randint(2,10),\n",
        "    'min_samples_leaf':sp_randint(1,50),\n",
        "    'min_samples_split':sp_randint(2,50),\n",
        "    'criterion':['gini','entropy']\n",
        "}\n",
        "rsearch = RandomizedSearchCV(rfc, param_distributions=params, n_iter=100, scoring='roc_auc',cv=3, n_jobs=-1)\n",
        "\n",
        "rsearch.fit(X_train, y_train)\n",
        "\n",
        "rsearch.best_params_\n",
        "\n",
        "rfc = RandomForestClassifier(**rsearch.best_params_,random_state=10)\n",
        "rfc.fit(X_train, y_train)\n",
        "\n",
        "rfc_y_train_pred = rfc.predict(X_train)\n",
        "rfc_y_train_prob = rfc.predict_proba(X_train)[:,1]\n",
        "\n",
        "rfc_y_test_pred = rfc.predict(X_test)\n",
        "rfc_y_test_prob = rfc.predict_proba(X_test)[:,1]\n",
        "\n",
        "rfpr,rtpr,rthreshold = roc_curve(y_test, rfc_y_test_prob)"
      ]
    },
    {
      "cell_type": "code",
      "execution_count": 109,
      "metadata": {
        "id": "raXaUdTXxC3a"
      },
      "outputs": [
        {
          "name": "stdout",
          "output_type": "stream",
          "text": [
            "Random Forest Classifier Accuracy Score for Train 0.8963460104399702\n"
          ]
        }
      ],
      "source": [
        "print(\"Random Forest Classifier Accuracy Score for Train\", accuracy_score(y_train, rfc_y_train_pred))"
      ]
    },
    {
      "cell_type": "code",
      "execution_count": 110,
      "metadata": {
        "id": "I7wCgDZ0xN0Z"
      },
      "outputs": [
        {
          "name": "stdout",
          "output_type": "stream",
          "text": [
            "Random Forest Classifier Accuracy Score for Test 0.875\n"
          ]
        }
      ],
      "source": [
        "accuracy_rf = accuracy_score(y_test, rfc_y_test_pred)\n",
        "print(\"Random Forest Classifier Accuracy Score for Test\", accuracy_score(y_test, rfc_y_test_pred))"
      ]
    },
    {
      "cell_type": "code",
      "execution_count": 111,
      "metadata": {
        "id": "1XDIkXe7wqNN"
      },
      "outputs": [
        {
          "name": "stdout",
          "output_type": "stream",
          "text": [
            "0.7935865504358655\n"
          ]
        }
      ],
      "source": [
        "aucrfc = roc_auc_score(y_test,rfc_y_test_prob)\n",
        "print(roc_auc_score(y_test,rfc_y_test_prob))"
      ]
    },
    {
      "cell_type": "code",
      "execution_count": 112,
      "metadata": {
        "id": "iueZQaXOxJXA"
      },
      "outputs": [
        {
          "name": "stdout",
          "output_type": "stream",
          "text": [
            "0.08695652173913045\n",
            "Precision: 1.0\n",
            "F1-score: 0.08695652173913045\n"
          ]
        }
      ],
      "source": [
        "f1_rf = f1_score(y_test, rfc_y_test_pred)\n",
        "print(f1_rf)\n",
        "precision_rf = precision_score(y_test, rfc_y_test_pred)\n",
        "\n",
        "# Print the results\n",
        "# print(\"Accuracy:\", accuracy_rf)\n",
        "print(\"Precision:\", precision_rf)\n",
        "print(\"F1-score:\", f1_rf)\n",
        "# print(\"ROC AUC:\", roc_auc_rf)"
      ]
    },
    {
      "cell_type": "code",
      "execution_count": 113,
      "metadata": {
        "id": "xia2ki6X933G"
      },
      "outputs": [
        {
          "data": {
            "image/png": "[encoded data removed]",
            "text/plain": [
              "<Figure size 432x288 with 1 Axes>"
            ]
          },
          "metadata": {
            "needs_background": "light"
          },
          "output_type": "display_data"
        }
      ],
      "source": [
        "plt.plot(rfpr, rtpr, label = \"RFC = \" + str(aucrfc))\n",
        "plt.xlabel(\"False Positive Rate\")\n",
        "plt.ylabel(\"True Positive Rate\")\n",
        "\n",
        "plt.legend()\n",
        "plt.show()"
      ]
    },
    {
      "cell_type": "code",
      "execution_count": 114,
      "metadata": {
        "id": "Y-uLqwMNOTBN"
      },
      "outputs": [
        {
          "name": "stdout",
          "output_type": "stream",
          "text": [
            "[[292   0]\n",
            " [ 42   2]]\n"
          ]
        }
      ],
      "source": [
        "from sklearn.metrics import confusion_matrix\n",
        "\n",
        "confusion_mat_rf = confusion_matrix(y_test,rfc_y_test_pred)\n",
        "print(confusion_mat_rf)"
      ]
    },
    {
      "cell_type": "code",
      "execution_count": 115,
      "metadata": {
        "id": "l25-wUZMPM7T"
      },
      "outputs": [
        {
          "data": {
            "image/png": "[encoded data removed]",
            "text/plain": [
              "<Figure size 432x288 with 2 Axes>"
            ]
          },
          "metadata": {
            "needs_background": "light"
          },
          "output_type": "display_data"
        }
      ],
      "source": [
        "import matplotlib.pyplot as plt\n",
        "import seaborn as sns\n",
        "\n",
        "sns.heatmap(confusion_mat_rf, annot=True, cmap=\"Blues\")\n",
        "plt.ylabel(\"True Positive Rate\")\n",
        "plt.xlabel(\"False Positive Rate\")\n",
        "plt.show()"
      ]
    },
    {
      "cell_type": "code",
      "execution_count": 116,
      "metadata": {
        "id": "ID-I_fQJHZc6"
      },
      "outputs": [],
      "source": [
        "RFMetrics = [accuracy_rf, precision_rf, f1_rf, aucrfc]"
      ]
    },
    {
      "cell_type": "markdown",
      "metadata": {
        "id": "NhQgb4ijWlmE"
      },
      "source": [
        "#XG Boost"
      ]
    },
    {
      "cell_type": "code",
      "execution_count": 117,
      "metadata": {
        "id": "l1uXJdBOWo7D"
      },
      "outputs": [],
      "source": [
        "# import xgboost as xgb\n",
        "# from sklearn.metrics import accuracy_score\n",
        "\n",
        "\n",
        "# xgb_model = xgb.XGBClassifier(objective='multi:softmax', num_class=3)\n",
        "# xgb_model.fit(X_train, y_train)\n",
        "# y_predXGB = xgb_model.predict(X_test)\n",
        "# y_prodxgb = xgb_model.predict_proba(X_test)\n",
        "\n",
        "# # Calculating the accuracy of the classifier\n",
        "# accuracy = accuracy_score(y_test, y_predXGB)\n",
        "# print(\"Accuracy:\", accuracy)\n",
        "# print(y_predXGB)"
      ]
    },
    {
      "cell_type": "code",
      "execution_count": 118,
      "metadata": {
        "id": "4Hh-6K_r__Ul"
      },
      "outputs": [],
      "source": [
        "# from sklearn.metrics import roc_curve, auc\n",
        "# import matplotlib.pyplot as plt\n",
        "# from sklearn import metrics\n",
        "\n",
        "# fprXGB, tprXGB, _ = metrics.roc_curve(y_test, y_predXGB)\n",
        "# aucXGB = metrics.roc_auc_score(y_test, y_predXGB)\n",
        "# plt.plot(fprXGB, tprXGB, label = \"XG Boost = \" + str(aucXGB))\n",
        "# plt.ylabel(\"True Positive Rate\")\n",
        "# plt.xlabel(\"False Positive Rate\")\n",
        "# plt.legend(loc = 4)\n",
        "# plt.show()"
      ]
    },
    {
      "cell_type": "markdown",
      "metadata": {
        "id": "_iMrnSORPyDb"
      },
      "source": [
        "#Light GBM"
      ]
    },
    {
      "cell_type": "code",
      "execution_count": 119,
      "metadata": {
        "id": "790EdfjFP0s6"
      },
      "outputs": [],
      "source": [
        "# import lightgbm as lgb\n",
        "# from sklearn.metrics import accuracy_score"
      ]
    },
    {
      "cell_type": "code",
      "execution_count": 120,
      "metadata": {
        "id": "cZ5TqiS7P1lJ"
      },
      "outputs": [],
      "source": [
        "# lgb_model = lgb.LGBMClassifier(objective='binary', num_class=1)\n",
        "# lgb_model.fit(X_train, y_train)\n",
        "\n"
      ]
    },
    {
      "cell_type": "code",
      "execution_count": 121,
      "metadata": {
        "id": "SFtk3HpKP1cG"
      },
      "outputs": [],
      "source": [
        "# Making predictions on the test set\n",
        "# y_predlgb = lgb_model.predict(X_test, iter = 100)\n",
        "\n",
        "# # Calculating the accuracy of the classifier\n",
        "# accuracy = accuracy_score(y_test, y_predlgb)\n",
        "# print(\"Accuracy:\", accuracy)\n",
        "# y_predlgb"
      ]
    },
    {
      "cell_type": "code",
      "execution_count": 122,
      "metadata": {
        "id": "8tDrgFX0P1Yp"
      },
      "outputs": [],
      "source": [
        "# from sklearn.metrics import roc_curve, auc\n",
        "# import matplotlib.pyplot as plt\n",
        "# from sklearn import metrics\n",
        "\n",
        "# fprlGB, tprlGB, _ = metrics.roc_curve(y_test, y_predlgb)\n",
        "# auclGB = metrics.roc_auc_score(y_test, y_predlgb)\n",
        "# plt.plot(fprlGB, tprlGB, label = \"Libht GBM = \" + str(auclGB))\n",
        "# plt.ylabel(\"True Positive Rate\")\n",
        "# plt.xlabel(\"False Positive Rate\")\n",
        "# plt.legend(loc = 4)\n",
        "# plt.show()"
      ]
    },
    {
      "cell_type": "markdown",
      "metadata": {
        "id": "zKexPBFKa4aB"
      },
      "source": [
        "#AdaBoostClassifier\n"
      ]
    },
    {
      "cell_type": "code",
      "execution_count": 123,
      "metadata": {
        "id": "UHypad1ga7nT"
      },
      "outputs": [],
      "source": [
        "from sklearn.ensemble import AdaBoostClassifier\n",
        "from sklearn.datasets import make_classification\n",
        "from sklearn.model_selection import train_test_split\n",
        "from sklearn.metrics import accuracy_score\n",
        "rfc = RandomForestClassifier()\n",
        "abc = AdaBoostClassifier(base_estimator=rfc, n_estimators=50, random_state=42)\n",
        "abc.fit(X_train, y_train)\n",
        "y_pred = abc.predict(X_test)"
      ]
    },
    {
      "cell_type": "code",
      "execution_count": 124,
      "metadata": {
        "id": "K0aBUxHF1bRt"
      },
      "outputs": [
        {
          "name": "stdout",
          "output_type": "stream",
          "text": [
            "Accuracy:  0.8809523809523809\n",
            "Precision:  0.8333333333333334\n",
            "F1 score:  0.19999999999999998\n",
            "ROC:  0.8160024906600248\n",
            "Confusion Matrix:\n",
            "  [[291   1]\n",
            " [ 39   5]]\n",
            "\n",
            "\n",
            "Heat map:\n",
            "\n"
          ]
        },
        {
          "data": {
            "image/png": "[encoded data removed]",
            "text/plain": [
              "<Figure size 432x288 with 2 Axes>"
            ]
          },
          "metadata": {
            "needs_background": "light"
          },
          "output_type": "display_data"
        }
      ],
      "source": [
        "from sklearn.metrics import accuracy_score, precision_score, f1_score, roc_curve, roc_auc_score, auc\n",
        "from sklearn.metrics import confusion_matrix\n",
        "import matplotlib.pyplot as plt\n",
        "import seaborn as sns\n",
        "\n",
        "accuracy_ab = accuracy_score(y_test, y_pred)\n",
        "precision_ab = precision_score(y_test, y_pred)\n",
        "f1_ab = f1_score(y_test, y_pred)\n",
        "y_prob_ab = abc.predict_proba(X_test)[:, 1]\n",
        "fpr, tpr, thresholds = roc_curve(y_test, y_prob_ab)\n",
        "auc_ab = roc_auc_score(y_test, y_prob_ab)\n",
        "cm_ab = confusion_matrix(y_test, y_pred)\n",
        "\n",
        "\n",
        "print(\"Accuracy: \", accuracy_ab)\n",
        "print(\"Precision: \", precision_ab)\n",
        "print(\"F1 score: \", f1_ab)\n",
        "print(\"ROC: \", auc_ab)\n",
        "print(\"Confusion Matrix:\\n \", cm_ab)\n",
        "print(\"\\n\")\n",
        "print(\"Heat map:\\n\")\n",
        "sns.heatmap(cm_ab, annot=True, cmap=\"Blues\")\n",
        "plt.show()\n"
      ]
    },
    {
      "cell_type": "code",
      "execution_count": 125,
      "metadata": {
        "id": "jwbLaJ46a7wJ"
      },
      "outputs": [
        {
          "data": {
            "image/png": "[encoded data removed]",
            "text/plain": [
              "<Figure size 432x288 with 1 Axes>"
            ]
          },
          "metadata": {
            "needs_background": "light"
          },
          "output_type": "display_data"
        }
      ],
      "source": [
        "from sklearn.metrics import roc_curve, roc_auc_score\n",
        "import matplotlib.pyplot as plt\n",
        "y_prob = abc.predict_proba(X_test)[:, 1]\n",
        "fpr_ab, tpr_ab, thresholds = roc_curve(y_test, y_prob)\n",
        "auc_ab = roc_auc_score(y_test, y_prob)\n",
        "plt.plot(fpr_ab, tpr_ab, label='AdaBoost (AUC = {:.3f})'.format(auc_ab))\n",
        "plt.plot([0, 1], [0, 1], linestyle='--', label='Random guess')\n",
        "plt.xlabel('False Positive Rate')\n",
        "plt.ylabel('True Positive Rate')\n",
        "plt.title('ROC Curve')\n",
        "plt.legend()\n",
        "plt.show()"
      ]
    },
    {
      "cell_type": "code",
      "execution_count": 126,
      "metadata": {
        "id": "a05VU-CGEvJY"
      },
      "outputs": [],
      "source": [
        "ABMetrics = [accuracy_ab, precision_ab, f1_ab, auc_ab]"
      ]
    },
    {
      "cell_type": "markdown",
      "metadata": {
        "id": "Q8_YtCIQrGU7"
      },
      "source": [
        "# Submission"
      ]
    },
    {
      "cell_type": "code",
      "execution_count": 127,
      "metadata": {
        "id": "xoHW_vabrC7p"
      },
      "outputs": [],
      "source": [
        "df_test = pd.read_csv(r'C:\\Users\\Vani\\OneDrive\\Desktop\\ML Project\\Copy of test.csv')"
      ]
    },
    {
      "cell_type": "code",
      "execution_count": 128,
      "metadata": {
        "id": "8vgIVwP4tTxN"
      },
      "outputs": [],
      "source": [
        "df_id = df_test[\"id\"]"
      ]
    },
    {
      "cell_type": "code",
      "execution_count": 129,
      "metadata": {
        "id": "O3ByXholrTF4"
      },
      "outputs": [],
      "source": [
        "df_test = df_test.drop('id', axis = 1) \n",
        "\n",
        "df_test = df_test.drop('StandardHours', axis = 1) \n",
        "\n",
        "df_test = df_test.drop('EmployeeCount', axis = 1) \n",
        "\n",
        "df_test = df_test.drop('Over18', axis = 1)"
      ]
    },
    {
      "cell_type": "code",
      "execution_count": 130,
      "metadata": {
        "id": "qziay-StrTCJ"
      },
      "outputs": [],
      "source": [
        "df_test[\"BusinessTravel\"] = df_test[\"BusinessTravel\"].replace({\"Travel_Frequently\" : 0, \"Travel_Rarely\" : 1, \"Non-Travel\" : 2})\n",
        "df_test[\"Department\"] = df_test[\"Department\"].replace({\"Research & Development\" : 0, \"Sales\" : 1, \"Human Resources\" : 2})\n",
        "df_test[\"EducationField\"] = df_test[\"EducationField\"].replace({\"Medical\" : 0, \"Other\" : 1, \"Marketing\" : 2, \"Life Sciences\" : 3, \"Technical Degree\" : 4, \"Human Resources\" : 5})\n",
        "df_test[\"Gender\"] = df_test[\"Gender\"].replace({\"Male\" : 0, \"Female\" : 1})\n",
        "df_test[\"JobRole\"] = df_test[\"JobRole\"].replace({\"Laboratory Technician\" : 0, \"Sales Representative\" : 1, \"Sales Executive\" : 2, \"Healthcare Representative\" : 3, \"Manager\" : 4, \"Manufacturing Director\" : 5, \"Research Scientist\" : 6, \"Human Resources\" : 7, \"Research Director\" : 8})\n",
        "df_test[\"MaritalStatus\"] = df_test[\"MaritalStatus\"].replace({\"Married\" : 0, \"Single\" : 1, \"Divorced\" : 2})\n",
        "df_test[\"OverTime\"] = df_test[\"OverTime\"].replace({\"No\" : 0, \"Yes\" : 1})"
      ]
    },
    {
      "cell_type": "code",
      "execution_count": 131,
      "metadata": {
        "id": "GWzL1pGGrTAL"
      },
      "outputs": [],
      "source": [
        "from sklearn.preprocessing import StandardScaler\n",
        "scale = StandardScaler()\n",
        "df_test = scale.fit_transform(df_test)"
      ]
    },
    {
      "cell_type": "code",
      "execution_count": 132,
      "metadata": {
        "id": "F3v9D_yNsFjc"
      },
      "outputs": [
        {
          "data": {
            "text/plain": [
              "array([0.22, 0.09, 0.04, ..., 0.01, 0.04, 0.03])"
            ]
          },
          "execution_count": 132,
          "metadata": {},
          "output_type": "execute_result"
        }
      ],
      "source": [
        "df_pred = abc.predict(df_test)\n",
        "df_prob = abc.predict_proba(df_test)[:,1]\n",
        "df_prob = df_prob.round(2)\n",
        "df_prob"
      ]
    },
    {
      "cell_type": "code",
      "execution_count": 134,
      "metadata": {
        "id": "hi9PWiYjufiP"
      },
      "outputs": [],
      "source": [
        "\n",
        "\n",
        "# submission_df = pd.DataFrame({\"Attrition\" : df_prob})\n",
        "# submission_df\n",
        "# result = pd.merge(df_id, submission_df,left_index = True, right_index = True, how = 'left')\n",
        "# result.head()\n",
        "# datatoexcel = pd.ExcelWriter('submission.xlsx')\n",
        "# result.to_excel(datatoexcel)\n",
        "# datatoexcel.save()\n",
        "\n"
      ]
    },
    {
      "cell_type": "markdown",
      "metadata": {
        "id": "g3sF5TOXI7QJ"
      },
      "source": [
        "#Comparision Table"
      ]
    },
    {
      "cell_type": "code",
      "execution_count": 135,
      "metadata": {
        "id": "jjbUxEJ8I_Ry"
      },
      "outputs": [
        {
          "data": {
            "text/html": [
              "<div>\n",
              "<style scoped>\n",
              "    .dataframe tbody tr th:only-of-type {\n",
              "        vertical-align: middle;\n",
              "    }\n",
              "\n",
              "    .dataframe tbody tr th {\n",
              "        vertical-align: top;\n",
              "    }\n",
              "\n",
              "    .dataframe thead th {\n",
              "        text-align: right;\n",
              "    }\n",
              "</style>\n",
              "<table border=\"1\" class=\"dataframe\">\n",
              "  <thead>\n",
              "    <tr style=\"text-align: right;\">\n",
              "      <th></th>\n",
              "      <th>Accuracy</th>\n",
              "      <th>Precision</th>\n",
              "      <th>F1 Score</th>\n",
              "      <th>ROC</th>\n",
              "    </tr>\n",
              "  </thead>\n",
              "  <tbody>\n",
              "    <tr>\n",
              "      <th>Logistic Regression</th>\n",
              "      <td>0.883929</td>\n",
              "      <td>0.692308</td>\n",
              "      <td>0.315789</td>\n",
              "      <td>0.595423</td>\n",
              "    </tr>\n",
              "    <tr>\n",
              "      <th>Decision Tree</th>\n",
              "      <td>0.836310</td>\n",
              "      <td>0.365854</td>\n",
              "      <td>0.352941</td>\n",
              "      <td>0.626206</td>\n",
              "    </tr>\n",
              "    <tr>\n",
              "      <th>Random Forest</th>\n",
              "      <td>0.875000</td>\n",
              "      <td>1.000000</td>\n",
              "      <td>0.086957</td>\n",
              "      <td>0.793587</td>\n",
              "    </tr>\n",
              "    <tr>\n",
              "      <th>AdaBoost</th>\n",
              "      <td>0.880952</td>\n",
              "      <td>0.833333</td>\n",
              "      <td>0.200000</td>\n",
              "      <td>0.816002</td>\n",
              "    </tr>\n",
              "  </tbody>\n",
              "</table>\n",
              "</div>"
            ],
            "text/plain": [
              "                     Accuracy  Precision  F1 Score       ROC\n",
              "Logistic Regression  0.883929   0.692308  0.315789  0.595423\n",
              "Decision Tree        0.836310   0.365854  0.352941  0.626206\n",
              "Random Forest        0.875000   1.000000  0.086957  0.793587\n",
              "AdaBoost             0.880952   0.833333  0.200000  0.816002"
            ]
          },
          "execution_count": 135,
          "metadata": {},
          "output_type": "execute_result"
        }
      ],
      "source": [
        "row_names = ['Logistic Regression', 'Decision Tree', 'Random Forest', 'AdaBoost']\n",
        "col_names = ['Accuracy', 'Precision', 'F1 Score', 'ROC']\n",
        "data = [LRMetrics, DTMetrics, RFMetrics, ABMetrics]\n",
        "df = pd.DataFrame(data, index=row_names, columns=col_names)\n",
        "df"
      ]
    },
    {
      "cell_type": "markdown",
      "metadata": {
        "id": "kIwmzhyNZB0O"
      },
      "source": [
        "#ROC"
      ]
    },
    {
      "cell_type": "code",
      "execution_count": 137,
      "metadata": {
        "id": "q3878UoYZDb3"
      },
      "outputs": [
        {
          "data": {
            "image/png": "[encoded data removed]",
            "text/plain": [
              "<Figure size 432x288 with 1 Axes>"
            ]
          },
          "metadata": {
            "needs_background": "light"
          },
          "output_type": "display_data"
        }
      ],
      "source": [
        "from sklearn.metrics import roc_curve, auc\n",
        "import matplotlib.pyplot as plt\n",
        "from sklearn import metrics\n",
        "\n",
        "\n",
        "plt.plot(fpr, tpr, label = \"Logistic Regression = \" + str(roc_auc))\n",
        "\n",
        "plt.plot(fpr_dt, tpr_dt, label = \"Decision Tree = \" + str(roc_auc_dt))\n",
        "\n",
        "plt.plot(rfpr, rtpr, label = \"Random Forest = \" + str(aucrfc))\n",
        "\n",
        "plt.plot(fpr_ab, tpr_ab, label = \"AdaBoost = \" + str(auc_ab))\n",
        "\n",
        "\n",
        "\n",
        "plt.ylabel(\"True Positive Rate\")\n",
        "plt.xlabel(\"False Positive Rate\")\n",
        "plt.legend(loc = 4)\n",
        "plt.show()"
      ]
    },
    {
      "cell_type": "markdown",
      "metadata": {
        "id": "YMdO8dJlb1G5"
      },
      "source": [
        "#GRADIO"
      ]
    },
    {
      "cell_type": "code",
      "execution_count": 138,
      "metadata": {
        "id": "a9VZtyOgKWAD"
      },
      "outputs": [
        {
          "name": "stdout",
          "output_type": "stream",
          "text": [
            "^C\n"
          ]
        }
      ],
      "source": [
        "!pip install gradio"
      ]
    },
    {
      "cell_type": "code",
      "execution_count": null,
      "metadata": {
        "id": "tabqJz2eKLRH"
      },
      "outputs": [],
      "source": [
        "import gradio as gr\n",
        "\n",
        "# Create a function that takes in the 31 input fields and returns a prediction\n",
        "def make_prediction(age, attrition, business_travel, daily_rate, department, distance_from_home, education, education_field, environment_satisfaction, gender, hourly_rate, job_involvement, job_level, job_role, job_satisfaction, marital_status, monthly_income, monthly_rate, num_companies_worked, overtime, percent_salary_hike, performance_rating, relationship_satisfaction, standard_hours, stock_option_level, total_working_years, training_times_last_year, work_life_balance, years_at_company, years_in_current_role, years_since_last_promotion, years_with_curr_manager):\n",
        "    y_pred = abc.predict(X_test)\n",
        "    return prediction\n",
        "\n",
        "# Create the Gradio interface\n",
        "inputs = [\n",
        "    gr.inputs.Number(label=\"Age\"),\n",
        "    # gr.inputs.Dropdown(choices=[\"Yes\", \"No\"], label=\"Attrition\"),\n",
        "    gr.inputs.Dropdown(choices=[\"Travel_Frequently\", \"Travel_Rarely\", \"Non-Travel\"], label=\"BusinessTravel\"),\n",
        "    gr.inputs.Number(label=\"DailyRate\"),\n",
        "    gr.inputs.Dropdown(choices=[\"Research & Development\", \"Sales\", \"Human Resources\"], label=\"Department\"),\n",
        "    gr.inputs.Number(label=\"DistanceFromHome\"),\n",
        "    gr.inputs.Number(label=\"Education\"),\n",
        "    gr.inputs.Dropdown(choices=[\"Medical\", \"Other\", \"Marketing\", \"Life Sciences\", \"Technical Degree\", \"Human Resources\"], label=\"EducationField\"),\n",
        "    gr.inputs.Number(label=\"EnvironmentSatisfaction\"),\n",
        "    gr.inputs.Dropdown(choices=[\"Male\", \"Female\"], label=\"Gender\"),\n",
        "    gr.inputs.Number(label=\"HourlyRate\"),\n",
        "    gr.inputs.Number(label=\"JobInvolvement\"),\n",
        "    gr.inputs.Number(label=\"JobLevel\"),\n",
        "    gr.inputs.Dropdown(choices=[\"Laboratory Technician\", \"Sales Representative\", \"Sales Executive\", \"Healthcare Representative\", \"Manager\", \"Manufacturing Director\", \"Research Scientist\", \"Human Resources\", \"Research Director\"], label=\"JobRole\"),\n",
        "    gr.inputs.Number(label=\"JobSatisfaction\"),\n",
        "    gr.inputs.Dropdown(choices=[\"Married\", \"Divorced\", \"Single\"], label=\"MaritalStatus\"),\n",
        "    gr.inputs.Number(label=\"MonthlyIncome\"),\n",
        "    gr.inputs.Number(label=\"MonthlyRate\"),\n",
        "    gr.inputs.Number(label=\"NumCompaniesWorked\"),\n",
        "    gr.inputs.Dropdown(choices=[\"Yes\", \"No\"], label=\"OverTime\"),\n",
        "    gr.inputs.Number(label=\"PercentSalaryHike\"),\n",
        "    gr.inputs.Number(label=\"PerformanceRating\"),\n",
        "    gr.inputs.Number(label=\"RelationshipSatisfaction\"),\n",
        "    gr.inputs.Number(label=\"StandardHours\"),\n",
        "    gr.inputs.Number(label=\"StockOptionLevel\"),\n",
        "    gr.inputs.Number(label=\"TotalWorkingYears\"),\n",
        "    gr.inputs.Number(label=\"TrainingTimesLastYear\"),\n",
        "    gr.inputs.Number(label=\"WorkLifeBalance\"),\n",
        "    gr.inputs.Number(label=\"YearsAtCompany\"),\n",
        "    gr.inputs.Number(label=\"YearsInCurrentRole\"),\n",
        "    gr.inputs.Number(label=\"YearsSinceLastPromotion\"),\n",
        "    gr.inputs.Number(label=\"YearsWithCurrManager\")\n",
        "]\n",
        "\n",
        "iface = gr.Interface(fn=make_prediction, inputs=inputs, outputs=\"text\")\n",
        "\n",
        "# Launch the interface\n",
        "iface.launch()"
      ]
    },
    {
      "cell_type": "code",
      "execution_count": 139,
      "metadata": {
        "id": "eI5DunfKwezt"
      },
      "outputs": [
        {
          "name": "stdout",
          "output_type": "stream",
          "text": [
            "Collecting gradio\n",
            "  Downloading gradio-3.24.0-py3-none-any.whl (15.7 MB)\n",
            "Collecting huggingface-hub>=0.13.0\n",
            "  Downloading huggingface_hub-0.13.3-py3-none-any.whl (199 kB)\n",
            "Collecting aiohttp\n",
            "  Downloading aiohttp-3.8.4-cp39-cp39-win_amd64.whl (323 kB)\n",
            "Requirement already satisfied: pyyaml in c:\\python3.9\\lib\\site-packages (from gradio) (6.0)\n",
            "Collecting httpx\n",
            "  Downloading httpx-0.23.3-py3-none-any.whl (71 kB)\n",
            "Requirement already satisfied: pandas in c:\\python3.9\\lib\\site-packages (from gradio) (1.4.2)\n",
            "Requirement already satisfied: requests in c:\\python3.9\\lib\\site-packages (from gradio) (2.28.0)\n",
            "Collecting ffmpy\n",
            "  Downloading ffmpy-0.3.0.tar.gz (4.8 kB)\n",
            "Collecting gradio-client>=0.0.5\n",
            "  Downloading gradio_client-0.0.5-py3-none-any.whl (12 kB)\n",
            "Collecting markdown-it-py[linkify]>=2.0.0\n",
            "  Downloading markdown_it_py-2.2.0-py3-none-any.whl (84 kB)\n",
            "Requirement already satisfied: matplotlib in c:\\python3.9\\lib\\site-packages (from gradio) (3.7.1)\n",
            "Requirement already satisfied: typing-extensions in c:\\python3.9\\lib\\site-packages (from gradio) (4.2.0)\n",
            "Collecting uvicorn\n",
            "  Downloading uvicorn-0.21.1-py3-none-any.whl (57 kB)\n",
            "Requirement already satisfied: numpy in c:\\python3.9\\lib\\site-packages (from gradio) (1.21.4)\n",
            "Collecting pydub\n",
            "  Downloading pydub-0.25.1-py2.py3-none-any.whl (32 kB)\n",
            "Collecting pydantic\n",
            "  Downloading pydantic-1.10.7-cp39-cp39-win_amd64.whl (2.2 MB)\n",
            "Collecting aiofiles\n",
            "  Downloading aiofiles-23.1.0-py3-none-any.whl (14 kB)\n",
            "Requirement already satisfied: markupsafe in c:\\python3.9\\lib\\site-packages (from gradio) (2.1.1)\n",
            "Collecting mdit-py-plugins<=0.3.3\n",
            "  Downloading mdit_py_plugins-0.3.3-py3-none-any.whl (50 kB)\n",
            "Collecting semantic-version\n",
            "  Downloading semantic_version-2.10.0-py2.py3-none-any.whl (15 kB)\n",
            "Collecting websockets>=10.0\n",
            "  Downloading websockets-10.4-cp39-cp39-win_amd64.whl (101 kB)\n",
            "Collecting orjson\n",
            "  Downloading orjson-3.8.9-cp39-none-win_amd64.whl (202 kB)\n",
            "Requirement already satisfied: jinja2 in c:\\python3.9\\lib\\site-packages (from gradio) (3.1.2)\n",
            "Requirement already satisfied: altair>=4.2.0 in c:\\python3.9\\lib\\site-packages (from gradio) (4.2.0)\n",
            "Requirement already satisfied: pillow in c:\\python3.9\\lib\\site-packages (from gradio) (8.4.0)\n",
            "Collecting python-multipart\n",
            "  Downloading python_multipart-0.0.6-py3-none-any.whl (45 kB)\n",
            "Collecting fastapi\n",
            "  Downloading fastapi-0.95.0-py3-none-any.whl (57 kB)\n",
            "Requirement already satisfied: toolz in c:\\python3.9\\lib\\site-packages (from altair>=4.2.0->gradio) (0.11.2)\n",
            "Requirement already satisfied: jsonschema>=3.0 in c:\\python3.9\\lib\\site-packages (from altair>=4.2.0->gradio) (4.6.0)\n",
            "Requirement already satisfied: entrypoints in c:\\python3.9\\lib\\site-packages (from altair>=4.2.0->gradio) (0.4)\n",
            "Collecting fsspec\n",
            "  Downloading fsspec-2023.3.0-py3-none-any.whl (145 kB)\n",
            "Requirement already satisfied: packaging in c:\\python3.9\\lib\\site-packages (from gradio-client>=0.0.5->gradio) (21.3)\n",
            "Collecting tqdm>=4.42.1\n",
            "  Downloading tqdm-4.65.0-py3-none-any.whl (77 kB)\n",
            "Collecting filelock\n",
            "  Downloading filelock-3.10.7-py3-none-any.whl (10 kB)\n",
            "Requirement already satisfied: attrs>=17.4.0 in c:\\python3.9\\lib\\site-packages (from jsonschema>=3.0->altair>=4.2.0->gradio) (21.4.0)\n",
            "Requirement already satisfied: pyrsistent!=0.17.0,!=0.17.1,!=0.17.2,>=0.14.0 in c:\\python3.9\\lib\\site-packages (from jsonschema>=3.0->altair>=4.2.0->gradio) (0.18.1)\n",
            "Collecting mdurl~=0.1\n",
            "  Downloading mdurl-0.1.2-py3-none-any.whl (10.0 kB)\n",
            "Collecting linkify-it-py<3,>=1\n",
            "  Downloading linkify_it_py-2.0.0-py3-none-any.whl (19 kB)\n",
            "Collecting uc-micro-py\n",
            "  Downloading uc_micro_py-1.0.1-py3-none-any.whl (6.2 kB)\n",
            "Requirement already satisfied: pyparsing!=3.0.5,>=2.0.2 in c:\\python3.9\\lib\\site-packages (from packaging->gradio-client>=0.0.5->gradio) (3.0.6)\n",
            "Requirement already satisfied: python-dateutil>=2.8.1 in c:\\python3.9\\lib\\site-packages (from pandas->gradio) (2.8.2)\n",
            "Requirement already satisfied: pytz>=2020.1 in c:\\python3.9\\lib\\site-packages (from pandas->gradio) (2022.1)\n",
            "Requirement already satisfied: six>=1.5 in c:\\python3.9\\lib\\site-packages (from python-dateutil>=2.8.1->pandas->gradio) (1.16.0)\n",
            "Requirement already satisfied: colorama in c:\\python3.9\\lib\\site-packages (from tqdm>=4.42.1->huggingface-hub>=0.13.0->gradio) (0.4.5)\n",
            "Collecting async-timeout<5.0,>=4.0.0a3\n",
            "  Downloading async_timeout-4.0.2-py3-none-any.whl (5.8 kB)\n",
            "Collecting multidict<7.0,>=4.5\n",
            "  Downloading multidict-6.0.4-cp39-cp39-win_amd64.whl (28 kB)\n",
            "Collecting aiosignal>=1.1.2\n",
            "  Downloading aiosignal-1.3.1-py3-none-any.whl (7.6 kB)\n",
            "Requirement already satisfied: charset-normalizer<4.0,>=2.0 in c:\\python3.9\\lib\\site-packages (from aiohttp->gradio) (2.0.12)\n",
            "Collecting yarl<2.0,>=1.0\n",
            "  Downloading yarl-1.8.2-cp39-cp39-win_amd64.whl (56 kB)\n",
            "Collecting frozenlist>=1.1.1\n",
            "  Downloading frozenlist-1.3.3-cp39-cp39-win_amd64.whl (34 kB)\n",
            "Requirement already satisfied: idna>=2.0 in c:\\python3.9\\lib\\site-packages (from yarl<2.0,>=1.0->aiohttp->gradio) (3.3)\n",
            "Collecting starlette<0.27.0,>=0.26.1\n",
            "  Downloading starlette-0.26.1-py3-none-any.whl (66 kB)\n",
            "Collecting anyio<5,>=3.4.0\n",
            "  Downloading anyio-3.6.2-py3-none-any.whl (80 kB)\n",
            "Collecting sniffio>=1.1\n",
            "  Downloading sniffio-1.3.0-py3-none-any.whl (10 kB)\n",
            "Collecting rfc3986[idna2008]<2,>=1.3\n",
            "  Downloading rfc3986-1.5.0-py2.py3-none-any.whl (31 kB)\n",
            "Collecting httpcore<0.17.0,>=0.15.0\n",
            "  Downloading httpcore-0.16.3-py3-none-any.whl (69 kB)\n",
            "Requirement already satisfied: certifi in c:\\python3.9\\lib\\site-packages (from httpx->gradio) (2022.6.15)\n",
            "Collecting h11<0.15,>=0.13\n",
            "  Downloading h11-0.14.0-py3-none-any.whl (58 kB)\n",
            "Requirement already satisfied: cycler>=0.10 in c:\\python3.9\\lib\\site-packages (from matplotlib->gradio) (0.11.0)\n",
            "Requirement already satisfied: contourpy>=1.0.1 in c:\\python3.9\\lib\\site-packages (from matplotlib->gradio) (1.0.7)\n",
            "Requirement already satisfied: kiwisolver>=1.0.1 in c:\\python3.9\\lib\\site-packages (from matplotlib->gradio) (1.4.4)\n",
            "Requirement already satisfied: importlib-resources>=3.2.0 in c:\\python3.9\\lib\\site-packages (from matplotlib->gradio) (5.12.0)\n",
            "Requirement already satisfied: fonttools>=4.22.0 in c:\\python3.9\\lib\\site-packages (from matplotlib->gradio) (4.39.3)\n",
            "Requirement already satisfied: zipp>=3.1.0 in c:\\python3.9\\lib\\site-packages (from importlib-resources>=3.2.0->matplotlib->gradio) (3.8.0)\n",
            "Requirement already satisfied: urllib3<1.27,>=1.21.1 in c:\\python3.9\\lib\\site-packages (from requests->gradio) (1.26.9)\n",
            "Requirement already satisfied: click>=7.0 in c:\\python3.9\\lib\\site-packages (from uvicorn->gradio) (8.1.3)\n",
            "Using legacy 'setup.py install' for ffmpy, since package 'wheel' is not installed.\n",
            "Installing collected packages: sniffio, uc-micro-py, tqdm, rfc3986, multidict, mdurl, h11, frozenlist, filelock, anyio, yarl, websockets, starlette, pydantic, markdown-it-py, linkify-it-py, huggingface-hub, httpcore, fsspec, async-timeout, aiosignal, uvicorn, semantic-version, python-multipart, pydub, orjson, mdit-py-plugins, httpx, gradio-client, ffmpy, fastapi, aiohttp, aiofiles, gradio\n",
            "    Running setup.py install for ffmpy: started\n",
            "    Running setup.py install for ffmpy: finished with status 'done'\n",
            "Successfully installed aiofiles-23.1.0 aiohttp-3.8.4 aiosignal-1.3.1 anyio-3.6.2 async-timeout-4.0.2 fastapi-0.95.0 ffmpy-0.3.0 filelock-3.10.7 frozenlist-1.3.3 fsspec-2023.3.0 gradio-3.24.0 gradio-client-0.0.5 h11-0.14.0 httpcore-0.16.3 httpx-0.23.3 huggingface-hub-0.13.3 linkify-it-py-2.0.0 markdown-it-py-2.2.0 mdit-py-plugins-0.3.3 mdurl-0.1.2 multidict-6.0.4 orjson-3.8.9 pydantic-1.10.7 pydub-0.25.1 python-multipart-0.0.6 rfc3986-1.5.0 semantic-version-2.10.0 sniffio-1.3.0 starlette-0.26.1 tqdm-4.65.0 uc-micro-py-1.0.1 uvicorn-0.21.1 websockets-10.4 yarl-1.8.2\n"
          ]
        },
        {
          "name": "stderr",
          "output_type": "stream",
          "text": [
            "WARNING: You are using pip version 21.1.3; however, version 23.0.1 is available.\n",
            "You should consider upgrading via the 'c:\\python3.9\\python.exe -m pip install --upgrade pip' command.\n"
          ]
        }
      ],
      "source": [
        "import pickle\n",
        "pickle.dump(abc , open('model_pickel.pkl' , 'wb'))"
      ]
    }
  ],
  "metadata": {
    "colab": {
      "collapsed_sections": [
        "NhQgb4ijWlmE",
        "_iMrnSORPyDb"
      ],
      "provenance": []
    },
    "kernelspec": {
      "display_name": "Python 3",
      "name": "python3"
    },
    "language_info": {
      "codemirror_mode": {
        "name": "ipython",
        "version": 3
      },
      "file_extension": ".py",
      "mimetype": "text/x-python",
      "name": "python",
      "nbconvert_exporter": "python",
      "pygments_lexer": "ipython3",
      "version": "3.9.6"
    }
  },
  "nbformat": 4,
  "nbformat_minor": 0
}
